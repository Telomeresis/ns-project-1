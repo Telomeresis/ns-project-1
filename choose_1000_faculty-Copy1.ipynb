{
 "cells": [
  {
   "cell_type": "code",
   "execution_count": 17,
   "id": "empirical-dependence",
   "metadata": {},
   "outputs": [],
   "source": [
    "import pandas as pd\n",
    "import numpy as np\n",
    "from bs4 import BeautifulSoup\n",
    "import requests\n",
    "import re\n",
    "import pickle\n",
    "import random\n",
    "\n",
    "#from preprocessing_1_initial_scrape import *"
   ]
  },
  {
   "cell_type": "code",
   "execution_count": 2,
   "id": "connected-replacement",
   "metadata": {},
   "outputs": [],
   "source": [
    "# Retrieve dblp_df with pickle\n",
    "with open('dblp_12k_processed_df.pkl', 'rb') as f:\n",
    "    dblp_df = pickle.load(f)"
   ]
  },
  {
   "cell_type": "code",
   "execution_count": 3,
   "id": "seven-terry",
   "metadata": {},
   "outputs": [
    {
     "data": {
      "text/plain": [
       "8999"
      ]
     },
     "execution_count": 3,
     "metadata": {},
     "output_type": "execute_result"
    }
   ],
   "source": [
    "def filter_unique_authors(dblp_df):\n",
    "    # Iterate to fill up list of other authors\n",
    "    other_authors_list = []\n",
    "    for i, row in dblp_df.iterrows():\n",
    "        for each in row['Other Authors']:\n",
    "            other_authors_list.append(each)\n",
    "\n",
    "    # Convert to retrieve only unique author entries\n",
    "    other_authors_set = set(other_authors_list)\n",
    "    unique_authors_list = list(other_authors_set)\n",
    "\n",
    "    # Iterate to retrieve unique authors with distinguishable names\n",
    "    unique_authors_numberless_list = []\n",
    "    for each in unique_authors_list:\n",
    "        if re.search(r'\\d', each) == None:    \n",
    "            unique_authors_numberless_list.append(each)"
   ]
  },
  {
   "cell_type": "markdown",
   "id": "productive-accessory",
   "metadata": {},
   "source": [
    "# Remove all SCSE faculty members"
   ]
  },
  {
   "cell_type": "code",
   "execution_count": 4,
   "id": "built-graduation",
   "metadata": {},
   "outputs": [],
   "source": [
    "# Retrieve unique faculty names\n"
   ]
  },
  {
   "cell_type": "code",
   "execution_count": 5,
   "id": "italian-marketplace",
   "metadata": {},
   "outputs": [
    {
     "data": {
      "text/plain": [
       "8914"
      ]
     },
     "execution_count": 5,
     "metadata": {},
     "output_type": "execute_result"
    }
   ],
   "source": [
    "# iterate over this list to check and remove scse people\n",
    "def remove_scse(main_list):\n",
    "\n",
    "    faculty_list = dblp_df['Faculty'].tolist()\n",
    "    unique_faculty_list = list(set(faculty_list))\n",
    "    \n",
    "    for each in unique_faculty_list:\n",
    "\n",
    "        mod_fac_name = each.replace(\"-\", \" \")\n",
    "        mod_fac_name_list = mod_fac_name.split(\" \")\n",
    "        #print(mod_fac_name_list)\n",
    "        best_i = 0\n",
    "        best_count = 0\n",
    "\n",
    "        for i in range(len(main_list)):\n",
    "            #check matchability\n",
    "            author = main_list[i]\n",
    "            count = 0\n",
    "            for w in mod_fac_name_list:\n",
    "                if w in author:\n",
    "                    count += 1\n",
    "            if count > best_count:\n",
    "                best_count = count\n",
    "                best_i = i\n",
    "        main_list.remove(main_list[best_i])\n",
    "    return main_list\n",
    "        \n",
    "unique_authors_numberless_scseless_list = remove_scse(unique_authors_numberless_list)\n",
    "len(unique_authors_numberless_scseless_list)"
   ]
  },
  {
   "cell_type": "code",
   "execution_count": 6,
   "id": "tropical-difference",
   "metadata": {},
   "outputs": [],
   "source": [
    "def retrieve_thousand_faculty(dblp_df):\n",
    "    ssb_df = dblp_df[dblp_df['Faculty'] == 'Sourav S Bhowmick']\n",
    "\n",
    "    # Iterate to fill up list of other authors\n",
    "    ssb_other_authors_list = []\n",
    "    for i, row in ssb_df.iterrows():\n",
    "        for each in row['Other Authors']:\n",
    "            ssb_other_authors_list.append(each)\n",
    "\n",
    "    # Convert to retrieve only unique author entries\n",
    "    ssb_unique_authors_list = list(set(ssb_other_authors_list))\n",
    "\n",
    "    # Iterate to retrieve unique authors with distinguishable names\n",
    "    ssb_unique_authors_numberless_list = []\n",
    "    for each in ssb_unique_authors_list:\n",
    "        if re.search(r'\\d', each) == None:    \n",
    "            ssb_unique_authors_numberless_list.append(each)\n",
    "\n",
    "    # Cross-compare and retrieve only non-scse sourav pals\n",
    "    sourav_pal_list = []\n",
    "    for each in unique_authors_numberless_scseless_list:\n",
    "        for ssb_each in ssb_unique_authors_numberless_list:\n",
    "            if ssb_each == each:\n",
    "                sourav_pal_list.append(ssb_each)\n",
    "                \n",
    "    # Retrieve non-sourav pal authors from main list\n",
    "    remainder_authors_list = list(set(unique_authors_numberless_scseless_list).symmetric_difference(set(sourav_pal_list)))\n",
    "    \n",
    "    # randomly chosen remainder people\n",
    "    random_chosen_list = random.sample(remainder_authors_list, 1000-len(sourav_pal_list))\n",
    "    \n",
    "    return sourav_pal_list + random_chosen_list"
   ]
  },
  {
   "cell_type": "code",
   "execution_count": 24,
   "id": "electronic-indication",
   "metadata": {},
   "outputs": [],
   "source": [
    "# Store dblp_df with pickle\n",
    "with open('1000_faculty.pkl', 'wb') as f:\n",
    "    pickle.dump(thousand_apostles_list, f)"
   ]
  },
  {
   "cell_type": "code",
   "execution_count": null,
   "id": "permanent-desperate",
   "metadata": {},
   "outputs": [],
   "source": []
  }
 ],
 "metadata": {
  "kernelspec": {
   "display_name": "Python 3",
   "language": "python",
   "name": "python3"
  },
  "language_info": {
   "codemirror_mode": {
    "name": "ipython",
    "version": 3
   },
   "file_extension": ".py",
   "mimetype": "text/x-python",
   "name": "python",
   "nbconvert_exporter": "python",
   "pygments_lexer": "ipython3",
   "version": "3.9.1"
  }
 },
 "nbformat": 4,
 "nbformat_minor": 5
}
