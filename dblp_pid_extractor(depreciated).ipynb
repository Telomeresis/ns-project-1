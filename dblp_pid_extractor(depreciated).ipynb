{
 "cells": [
  {
   "cell_type": "markdown",
   "id": "adapted-thumbnail",
   "metadata": {},
   "source": [
    "# dblp_extractor Notebook"
   ]
  },
  {
   "cell_type": "code",
   "execution_count": 1,
   "id": "laden-retailer",
   "metadata": {},
   "outputs": [],
   "source": [
    "import pandas as pd\n",
    "import numpy as np\n",
    "from bs4 import BeautifulSoup\n",
    "import requests\n",
    "import re\n",
    "import pickle"
   ]
  },
  {
   "cell_type": "code",
   "execution_count": null,
   "id": "julian-explosion",
   "metadata": {},
   "outputs": [],
   "source": [
    "# Import faculty details into df\n",
    "faculty_df = pd.read_excel('Faculty.xlsx')\n",
    "\n",
    "# Select relevant columns\n",
    "faculty_df = faculty_df[['Faculty', 'Position', 'Gender', 'Management', 'DBLP', 'Area']]"
   ]
  },
  {
   "cell_type": "code",
   "execution_count": null,
   "id": "super-tension",
   "metadata": {},
   "outputs": [],
   "source": [
    "# Create empty list for search query automation\n",
    "q_list = []\n",
    "\n",
    "# Iterate over extracted faculty names, convert spaces to %20, then append to search query list\n",
    "for each in faculty_df['Faculty']:\n",
    "    query = each.replace(\" \", \"%20\")\n",
    "    q_list.append(query)"
   ]
  },
  {
   "cell_type": "code",
   "execution_count": null,
   "id": "normal-syntax",
   "metadata": {},
   "outputs": [],
   "source": [
    "url=\"https://dblp.org/search?q=\"\n",
    "\n",
    "# Declare list to store extracted content\n",
    "content_list = []\n",
    "\n",
    "i = 0\n",
    "# Iterate using q_list to make a GET request to fetch raw HTML content\n",
    "for each in q_list:\n",
    "    html_content = requests.get(url+each).text\n",
    "    content_list.append(html_content)\n",
    "    i+=1\n",
    "    if (i % 10 == 0)\n",
    "        print(i)\n",
    "    \n",
    "# Store content_list with pickle\n",
    "with open('content_list.pkl', 'wb') as f:\n",
    "    pickle.dump(content_list, f)    "
   ]
  },
  {
   "cell_type": "code",
   "execution_count": 2,
   "id": "collaborative-tuesday",
   "metadata": {},
   "outputs": [],
   "source": [
    "# Retrieve content_list with pickle\n",
    "with open('content_list.pkl', 'rb') as f:\n",
    "    content_list = pickle.load(f)"
   ]
  },
  {
   "cell_type": "code",
   "execution_count": null,
   "id": "future-classification",
   "metadata": {},
   "outputs": [],
   "source": [
    "# Declare empty list for storing soups\n",
    "pretty_soup_list = []\n",
    "\n",
    "for each in content_list:\n",
    "    soup = BeautifulSoup(each, \"lxml\")\n",
    "    pretty_soup_list.append(soup.prettify())\n",
    "\n",
    "# Store pretty_soup_list with pickle\n",
    "with open('pretty_soup_list.pkl', 'wb') as f:\n",
    "    pickle.dump(pretty_soup_list, f)"
   ]
  },
  {
   "cell_type": "code",
   "execution_count": 3,
   "id": "married-excellence",
   "metadata": {},
   "outputs": [],
   "source": [
    "# Retrieve pretty_soup_list with pickle\n",
    "with open('pretty_soup_list.pkl', 'rb') as f:\n",
    "    pretty_soup_list = pickle.load(f)   "
   ]
  },
  {
   "cell_type": "code",
   "execution_count": 17,
   "id": "integrated-booking",
   "metadata": {},
   "outputs": [
    {
     "name": "stdout",
     "output_type": "stream",
     "text": [
      "10\n"
     ]
    },
    {
     "ename": "TypeError",
     "evalue": "'NoneType' object is not subscriptable",
     "output_type": "error",
     "traceback": [
      "\u001b[1;31m---------------------------------------------------------------------------\u001b[0m",
      "\u001b[1;31mTypeError\u001b[0m                                 Traceback (most recent call last)",
      "\u001b[1;32m<ipython-input-17-9db150c114ae>\u001b[0m in \u001b[0;36m<module>\u001b[1;34m\u001b[0m\n\u001b[0;32m      7\u001b[0m     \u001b[0mconverted_each\u001b[0m \u001b[1;33m=\u001b[0m \u001b[0mBeautifulSoup\u001b[0m\u001b[1;33m(\u001b[0m\u001b[0meach\u001b[0m\u001b[1;33m,\u001b[0m \u001b[1;34m\"html.parser\"\u001b[0m\u001b[1;33m)\u001b[0m \u001b[1;31m# need to convert lmao\u001b[0m\u001b[1;33m\u001b[0m\u001b[1;33m\u001b[0m\u001b[0m\n\u001b[0;32m      8\u001b[0m     \u001b[0mpid\u001b[0m \u001b[1;33m=\u001b[0m \u001b[0mconverted_each\u001b[0m\u001b[1;33m.\u001b[0m\u001b[0mfind\u001b[0m\u001b[1;33m(\u001b[0m\u001b[1;34m\"a\"\u001b[0m\u001b[1;33m,\u001b[0m \u001b[0mitemprop\u001b[0m\u001b[1;33m=\u001b[0m\u001b[1;34m\"url\"\u001b[0m\u001b[1;33m)\u001b[0m\u001b[1;33m\u001b[0m\u001b[1;33m\u001b[0m\u001b[0m\n\u001b[1;32m----> 9\u001b[1;33m     \u001b[0mpid_list\u001b[0m\u001b[1;33m.\u001b[0m\u001b[0mappend\u001b[0m\u001b[1;33m(\u001b[0m\u001b[0mpid\u001b[0m\u001b[1;33m[\u001b[0m\u001b[1;34m'href'\u001b[0m\u001b[1;33m]\u001b[0m\u001b[1;33m)\u001b[0m \u001b[1;31m# select href tag to get pid url\u001b[0m\u001b[1;33m\u001b[0m\u001b[1;33m\u001b[0m\u001b[0m\n\u001b[0m\u001b[0;32m     10\u001b[0m     \u001b[0mi\u001b[0m\u001b[1;33m+=\u001b[0m\u001b[1;36m1\u001b[0m\u001b[1;33m\u001b[0m\u001b[1;33m\u001b[0m\u001b[0m\n\u001b[0;32m     11\u001b[0m     \u001b[1;32mif\u001b[0m \u001b[1;33m(\u001b[0m\u001b[0mi\u001b[0m \u001b[1;33m%\u001b[0m \u001b[1;36m10\u001b[0m \u001b[1;33m==\u001b[0m \u001b[1;36m0\u001b[0m\u001b[1;33m)\u001b[0m\u001b[1;33m:\u001b[0m\u001b[1;33m\u001b[0m\u001b[1;33m\u001b[0m\u001b[0m\n",
      "\u001b[1;31mTypeError\u001b[0m: 'NoneType' object is not subscriptable"
     ]
    }
   ],
   "source": [
    "# Declare empty pid list for storing pids\n",
    "pid_list = []\n",
    "\n",
    "i = 0\n",
    "# Iterate over pretty_soup_list to extract pid\n",
    "for each in pretty_soup_list:\n",
    "    converted_each = BeautifulSoup(each, \"html.parser\") # need to convert lmao\n",
    "    pid = converted_each.find(\"a\", itemprop=\"url\")\n",
    "    pid_list.append(pid['href']) # select href tag to get pid url\n",
    "    i+=1\n",
    "    if (i % 10 == 0):\n",
    "        print(i)\n",
    "\n",
    "        \n",
    "'''\n",
    "NOTE: NOT NEEDED, LINKS ALL PRE-PROVIDED IN EXCEL. CAN SCRAPE DIRECTLY INSTEAD UWU.\n",
    "'''"
   ]
  }
 ],
 "metadata": {
  "kernelspec": {
   "display_name": "Python 3",
   "language": "python",
   "name": "python3"
  },
  "language_info": {
   "codemirror_mode": {
    "name": "ipython",
    "version": 3
   },
   "file_extension": ".py",
   "mimetype": "text/x-python",
   "name": "python",
   "nbconvert_exporter": "python",
   "pygments_lexer": "ipython3",
   "version": "3.9.1"
  }
 },
 "nbformat": 4,
 "nbformat_minor": 5
}
