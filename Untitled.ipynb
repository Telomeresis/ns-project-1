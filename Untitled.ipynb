{
 "cells": [
  {
   "cell_type": "code",
   "execution_count": 1,
   "metadata": {},
   "outputs": [],
   "source": [
    "import networkx as nx\n",
    "import pandas as pd\n",
    "import numpy as np\n",
    "from itertools import combinations\n",
    "import matplotlib.pyplot as plt\n",
    "import pickle\n",
    "import seaborn as sb\n",
    "from collections import Counter\n",
    "import collections\n",
    "import powerlaw"
   ]
  },
  {
   "cell_type": "code",
   "execution_count": null,
   "metadata": {
    "scrolled": false
   },
   "outputs": [],
   "source": [
    "! pip install --upgrade networkx"
   ]
  },
  {
   "cell_type": "code",
   "execution_count": null,
   "metadata": {},
   "outputs": [],
   "source": [
    "! pip install powerlaw"
   ]
  },
  {
   "cell_type": "code",
   "execution_count": 2,
   "metadata": {},
   "outputs": [],
   "source": [
    "# faculty_graph from file\n",
    "open_file = open(\"faculty_graph.pkl\", \"rb\")\n",
    "faculty_graph = pickle.load(open_file)\n",
    "open_file.close()\n",
    "\n",
    "# edge_year_pairings from file\n",
    "open_file = open(\"edge_year_pairings.pkl\", \"rb\")\n",
    "edge_year_pairings = pickle.load(open_file)\n",
    "open_file.close()"
   ]
  },
  {
   "cell_type": "markdown",
   "metadata": {},
   "source": [
    "# Question 1\n",
    "\n",
    "### What are the network properties of the SCSE faculty network? Note that the network should only contain SCSE faculty members as nodes. No other individual should be part of this network."
   ]
  },
  {
   "cell_type": "code",
   "execution_count": 3,
   "metadata": {},
   "outputs": [],
   "source": [
    "def average_degree(G, consider_multiple_edges = True):\n",
    "    if (consider_multiple_edges == False):\n",
    "        H = nx.Graph(G)\n",
    "    else:\n",
    "        H = G\n",
    "    \n",
    "    findex_degree_pairs = list(H.degree())\n",
    "    degree_list = []\n",
    "    total_degree = 0\n",
    "    for pair in findex_degree_pairs:\n",
    "        total_degree = total_degree + pair[1]\n",
    "        degree_list.append(pair[1])\n",
    "    return total_degree / len(degree_list)\n",
    "\n",
    "\n",
    "# this average is just for pairs that are connected to each other\n",
    "def average_distance(G):\n",
    "    number_of_pairs = 0\n",
    "    total = 0\n",
    "    for i in range(len(G.nodes)):\n",
    "        \n",
    "        distances = nx.shortest_path_length(G, i)\n",
    "        for key in distances.keys():\n",
    "            if (key > i):\n",
    "                total = total + distances[key]\n",
    "                number_of_pairs = number_of_pairs + 1\n",
    "    return total / number_of_pairs, number_of_pairs\n",
    "\n",
    "# this max distance doesn't take into account those that are not connected \n",
    "\n",
    "def diameter(G):\n",
    "    max = -1\n",
    "    for i in range(len(G.nodes)):\n",
    "        distances = nx.shortest_path_length(G, i)\n",
    "        for distance in distances.values():\n",
    "            if distance > max:\n",
    "                max = distance\n",
    "    return max\n",
    "\n",
    "'''def plot_degree_distribution(G):\n",
    "    plt.title(\"Degree Distribution (Unscaled Axes)\")\n",
    "    sb.histplot(degree_list, stat = \"density\", kde = True) '''\n",
    "\n",
    "def plot_degree_distribution(G):\n",
    "    G = nx.Graph(G)\n",
    "    degrees = dict(G.degree())\n",
    "    degree_freq = Counter(list(degrees.values()))\n",
    "    degree_freq = sorted(degree_freq.items())\n",
    "    x, y = zip(*degree_freq)\n",
    "    print(x)\n",
    "    y = np.array(y)\n",
    "    print(y)\n",
    "    y = y / G.number_of_nodes()\n",
    "\n",
    "    plt.figure(figsize=(12, 8)) \n",
    "    plt.title(\"log-log degree distribution\")\n",
    "    plt.loglog(x, y,'go-') \n",
    "    plt.xlabel('Degree')\n",
    "    plt.ylabel('P(k)')\n",
    "    \n",
    "    \n",
    "def isolated_nodes(G):\n",
    "    return list(nx.isolates(G))\n",
    "\n",
    "def connected_nodes(G):\n",
    "    return set(G.nodes).difference(set(isolated_nodes(G)))\n",
    "\n",
    "def clustering_coef(node_index, G):\n",
    "    edges = list(set(G.edges(node_index)))\n",
    "    neighbours = []\n",
    "        \n",
    "    for pair in edges:\n",
    "        neighbours.append(pair[1])\n",
    "    \n",
    "    if len(neighbours) == 0 or len(neighbours) == 1:\n",
    "        return 0\n",
    "    \n",
    "    e_i = 0\n",
    "    for i in range(len(neighbours)):\n",
    "        for j in range(i, len(neighbours)):\n",
    "            if G.has_edge(neighbours[i], neighbours[j]):\n",
    "                e_i = e_i + 1\n",
    "    return (2 * e_i)/(len(neighbours) * (len(neighbours) - 1))\n",
    "            \n",
    "def average_clustering_coef(G):\n",
    "    denominator = len(connected_nodes(G))\n",
    "    \n",
    "    total = 0\n",
    "    for i in range(len(G.nodes())):\n",
    "        total = total + clustering_coef(i, G)\n",
    "    return total / denominator\n",
    "\n",
    "def normalised_degree_centrality_score(node_index, G):\n",
    "    return len(set(G.edges(node_index))) / (len(G.nodes()) - 1)    \n",
    "\n",
    "def normalised_degree_centrality(G):\n",
    "    node_indices = list(G.nodes())\n",
    "    score_dict = {}\n",
    "    \n",
    "    for node_index in node_indices:\n",
    "        score_dict[node_index] = normalised_degree_centrality_score(node_index, G)\n",
    "        \n",
    "    return score_dict\n",
    "\n",
    "def freeman_variation(G):\n",
    "    # find the max degree\n",
    "    degrees = np.array(G.degree())\n",
    "    C_d = np.max(degrees)\n",
    "    \n",
    "    # find the numerator\n",
    "    numerator = np.sum(np.subtract(C_d, degrees)[1])\n",
    "    \n",
    "    #find the denominator\n",
    "    N = len(list(G.nodes()))\n",
    "    denominator = (N-1)*(N-2)\n",
    "    \n",
    "    return numerator / denominator\n",
    "\n",
    "def eigenvector_centrality(G):\n",
    "    H = nx.Graph(G)\n",
    "    return nx.eigenvector_centrality(H)\n",
    "\n",
    "def betweenness_centrality(G):\n",
    "    H = nx.Graph(G)\n",
    "    return nx.betweenness_centrality(H, normalized = True)\n",
    "\n",
    "def closeness_centrality(G):\n",
    "    H = nx.Graph(G)\n",
    "    return nx.closeness_centrality(H)\n",
    "\n",
    "def top_k_centrality(score_dict, k):\n",
    "    top_k_index = sorted(score_dict, key=score_dict.get, reverse=True)[:k]\n",
    "    return top_k_index\n",
    "\n",
    "def find_power_law_parameters(G):\n",
    "    G = nx.Graph(G)\n",
    "    degree_sequence = sorted([d for n, d in G.degree()], reverse=True) \n",
    "    print(degree_sequence)\n",
    "    fit = powerlaw.Fit(degree_sequence, xmin=1)\n",
    "    return fit"
   ]
  },
  {
   "cell_type": "code",
   "execution_count": 5,
   "metadata": {
    "scrolled": true
   },
   "outputs": [
    {
     "data": {
      "text/plain": [
       "4.447058823529412"
      ]
     },
     "execution_count": 5,
     "metadata": {},
     "output_type": "execute_result"
    }
   ],
   "source": [
    "average_degree(faculty_graph, False)"
   ]
  },
  {
   "cell_type": "code",
   "execution_count": 6,
   "metadata": {},
   "outputs": [],
   "source": [
    "score_dict = closeness_centrality(faculty_graph)"
   ]
  },
  {
   "cell_type": "code",
   "execution_count": 7,
   "metadata": {
    "scrolled": true
   },
   "outputs": [
    {
     "name": "stdout",
     "output_type": "stream",
     "text": [
      "Lee Bu Sung Francis\n",
      "0.43631669535283996\n",
      "Miao Chunyan\n",
      "0.43631669535283996\n",
      "Ong Yew Soon\n",
      "0.4285714285714286\n"
     ]
    }
   ],
   "source": [
    "top_3_degree_centrality_index = top_k_centrality(score_dict, 3)\n",
    "\n",
    "for i in top_3_degree_centrality_index:\n",
    "    print(faculty_graph.nodes()[i][\"Faculty\"])\n",
    "    print(score_dict[i])"
   ]
  },
  {
   "cell_type": "markdown",
   "metadata": {},
   "source": [
    "# Question 2\n",
    "\n",
    "### How has the network and its properties evolved since year 2000? That is, the program should be able to analyze the network properties over time (at yearly granularity).\n",
    "\n",
    "This means I can check year by year to see if:\n",
    "    - Are there any profs that consistently publish together\n",
    "    - Are the number of publications similar each year?\n",
    "    - how many profs are connected?\n",
    "\n",
    "\n",
    "I can also do a running one to see the growth of the graph\n",
    "\n",
    "Questions:\n",
    "How can I get alpha and C if I try to model using a scale free network?"
   ]
  },
  {
   "cell_type": "code",
   "execution_count": 9,
   "metadata": {},
   "outputs": [],
   "source": [
    "def generate_empty_faculty_graph():\n",
    "    open_file = open(\"empty_faculty_graph.pkl\", \"rb\")\n",
    "    faculty_graph = pickle.load(open_file)\n",
    "    open_file.close()\n",
    "    return faculty_graph\n",
    "    \n",
    "    \n",
    "def create_graph_for_year(edge_year_pairings, year):\n",
    "    # check index 2\n",
    "    desired_list = []\n",
    "    for item in edge_year_pairings:\n",
    "        if item[2] <= year:\n",
    "            desired_list.append(item)\n",
    "    \n",
    "    faculty_graph = generate_empty_faculty_graph()\n",
    "    for each in desired_list:\n",
    "        faculty_graph.add_edge(each[0], each[1], label = each[2])\n",
    "    \n",
    "    return faculty_graph\n",
    "    \n",
    "    \n",
    "            "
   ]
  },
  {
   "cell_type": "code",
   "execution_count": 10,
   "metadata": {},
   "outputs": [],
   "source": [
    "def generate_properties_over_the_years(edge_year_pairings = edge_year_pairings):\n",
    "    average_degree_list = []\n",
    "    average_clustering_coef_list = []\n",
    "    average_distance_list = []\n",
    "    connected_N_list = []\n",
    "    diameter_list = []\n",
    "    \n",
    "    for year in range(2000, 2022):\n",
    "        G = create_graph_for_year(edge_year_pairings, year)\n",
    "        average_degree_list.append(average_degree(G, False))\n",
    "        average_clustering_coef_list.append(average_clustering_coef(G))\n",
    "        average_distance_list.append(average_distance(G)[0])\n",
    "        connected_N_list.append(len(connected_nodes(G)))\n",
    "        diameter_list.append(diameter(G))\n",
    "    return average_degree_list, average_clustering_coef_list, average_distance_list, connected_N_list, diameter_list\n",
    "  \n",
    "def plot_properties(average_degree_list, average_clustering_coef_list, average_distance_list, connected_N_list, diameter_list):\n",
    "    f, axes = plt.subplots(5, 1, figsize = (12,24))\n",
    "    properties_list = [\"Average Degree\", \"Average Clustering Coef\", \"Average Distance\", \"Size of Connected Component\", \"Diameter\"]\n",
    "    data_lists = [average_degree_list, average_clustering_coef_list, average_distance_list, connected_N_list, diameter_list]\n",
    "    title_format = \" against Year\"\n",
    "    years = list(range(2000, 2022))\n",
    "    for i in range(len(properties_list)):\n",
    "        axes[i].plot(years, data_lists[i])\n",
    "        axes[i].set_title(properties_list[i] + title_format)\n",
    "    \n",
    "    plt.show()\n",
    "        \n",
    "        "
   ]
  },
  {
   "cell_type": "code",
   "execution_count": 11,
   "metadata": {
    "scrolled": false
   },
   "outputs": [
    {
     "name": "stdout",
     "output_type": "stream",
     "text": [
      "[4, 3, 3, 2, 2, 2, 1, 1, 1, 1, 1, 1, 1, 1, 1, 1, 1, 1, 0, 0, 0, 0, 0, 0, 0, 0, 0, 0, 0, 0, 0, 0, 0, 0, 0, 0, 0, 0, 0, 0, 0, 0, 0, 0, 0, 0, 0, 0, 0, 0, 0, 0, 0, 0, 0, 0, 0, 0, 0, 0, 0, 0, 0, 0, 0, 0, 0, 0, 0, 0, 0, 0, 0, 0, 0, 0, 0, 0, 0, 0, 0, 0, 0, 0, 0]\n"
     ]
    },
    {
     "name": "stderr",
     "output_type": "stream",
     "text": [
      "Values less than or equal to 0 in data. Throwing out 0 or negative values\n",
      "/anaconda3/lib/python3.6/site-packages/powerlaw.py:700: RuntimeWarning: invalid value encountered in true_divide\n",
      "  (Theoretical_CDF * (1 - Theoretical_CDF))\n",
      "Assuming nested distributions\n"
     ]
    },
    {
     "name": "stdout",
     "output_type": "stream",
     "text": [
      "[5, 4, 4, 3, 2, 2, 2, 2, 1, 1, 1, 1, 1, 1, 1, 1, 1, 1, 0, 0, 0, 0, 0, 0, 0, 0, 0, 0, 0, 0, 0, 0, 0, 0, 0, 0, 0, 0, 0, 0, 0, 0, 0, 0, 0, 0, 0, 0, 0, 0, 0, 0, 0, 0, 0, 0, 0, 0, 0, 0, 0, 0, 0, 0, 0, 0, 0, 0, 0, 0, 0, 0, 0, 0, 0, 0, 0, 0, 0, 0, 0, 0, 0, 0, 0]\n",
      "[5, 5, 4, 3, 2, 2, 2, 2, 2, 1, 1, 1, 1, 1, 1, 1, 1, 1, 1, 1, 0, 0, 0, 0, 0, 0, 0, 0, 0, 0, 0, 0, 0, 0, 0, 0, 0, 0, 0, 0, 0, 0, 0, 0, 0, 0, 0, 0, 0, 0, 0, 0, 0, 0, 0, 0, 0, 0, 0, 0, 0, 0, 0, 0, 0, 0, 0, 0, 0, 0, 0, 0, 0, 0, 0, 0, 0, 0, 0, 0, 0, 0, 0, 0, 0]\n"
     ]
    },
    {
     "name": "stderr",
     "output_type": "stream",
     "text": [
      "Values less than or equal to 0 in data. Throwing out 0 or negative values\n",
      "Assuming nested distributions\n",
      "Values less than or equal to 0 in data. Throwing out 0 or negative values\n",
      "Assuming nested distributions\n",
      "Values less than or equal to 0 in data. Throwing out 0 or negative values\n",
      "Assuming nested distributions\n"
     ]
    },
    {
     "name": "stdout",
     "output_type": "stream",
     "text": [
      "[5, 5, 4, 4, 3, 2, 2, 2, 2, 1, 1, 1, 1, 1, 1, 1, 1, 1, 1, 1, 1, 1, 0, 0, 0, 0, 0, 0, 0, 0, 0, 0, 0, 0, 0, 0, 0, 0, 0, 0, 0, 0, 0, 0, 0, 0, 0, 0, 0, 0, 0, 0, 0, 0, 0, 0, 0, 0, 0, 0, 0, 0, 0, 0, 0, 0, 0, 0, 0, 0, 0, 0, 0, 0, 0, 0, 0, 0, 0, 0, 0, 0, 0, 0, 0]\n",
      "[7, 6, 5, 4, 4, 3, 2, 2, 2, 2, 2, 2, 2, 1, 1, 1, 1, 1, 1, 1, 1, 1, 1, 1, 1, 1, 0, 0, 0, 0, 0, 0, 0, 0, 0, 0, 0, 0, 0, 0, 0, 0, 0, 0, 0, 0, 0, 0, 0, 0, 0, 0, 0, 0, 0, 0, 0, 0, 0, 0, 0, 0, 0, 0, 0, 0, 0, 0, 0, 0, 0, 0, 0, 0, 0, 0, 0, 0, 0, 0, 0, 0, 0, 0, 0]\n"
     ]
    },
    {
     "name": "stderr",
     "output_type": "stream",
     "text": [
      "Values less than or equal to 0 in data. Throwing out 0 or negative values\n",
      "Assuming nested distributions\n",
      "Values less than or equal to 0 in data. Throwing out 0 or negative values\n",
      "Assuming nested distributions\n"
     ]
    },
    {
     "name": "stdout",
     "output_type": "stream",
     "text": [
      "[8, 6, 5, 4, 4, 4, 2, 2, 2, 2, 2, 2, 2, 2, 1, 1, 1, 1, 1, 1, 1, 1, 1, 1, 1, 1, 1, 1, 1, 0, 0, 0, 0, 0, 0, 0, 0, 0, 0, 0, 0, 0, 0, 0, 0, 0, 0, 0, 0, 0, 0, 0, 0, 0, 0, 0, 0, 0, 0, 0, 0, 0, 0, 0, 0, 0, 0, 0, 0, 0, 0, 0, 0, 0, 0, 0, 0, 0, 0, 0, 0, 0, 0, 0, 0]\n",
      "[10, 6, 5, 5, 4, 4, 3, 3, 3, 3, 3, 3, 2, 2, 2, 2, 2, 2, 2, 2, 1, 1, 1, 1, 1, 1, 1, 1, 1, 1, 1, 1, 1, 1, 0, 0, 0, 0, 0, 0, 0, 0, 0, 0, 0, 0, 0, 0, 0, 0, 0, 0, 0, 0, 0, 0, 0, 0, 0, 0, 0, 0, 0, 0, 0, 0, 0, 0, 0, 0, 0, 0, 0, 0, 0, 0, 0, 0, 0, 0, 0, 0, 0, 0, 0]\n"
     ]
    },
    {
     "name": "stderr",
     "output_type": "stream",
     "text": [
      "Values less than or equal to 0 in data. Throwing out 0 or negative values\n",
      "Assuming nested distributions\n",
      "Values less than or equal to 0 in data. Throwing out 0 or negative values\n",
      "Assuming nested distributions\n"
     ]
    },
    {
     "name": "stdout",
     "output_type": "stream",
     "text": [
      "[10, 6, 6, 6, 4, 4, 4, 4, 3, 3, 3, 3, 3, 2, 2, 2, 2, 2, 2, 2, 2, 2, 1, 1, 1, 1, 1, 1, 1, 1, 1, 1, 1, 1, 1, 1, 1, 0, 0, 0, 0, 0, 0, 0, 0, 0, 0, 0, 0, 0, 0, 0, 0, 0, 0, 0, 0, 0, 0, 0, 0, 0, 0, 0, 0, 0, 0, 0, 0, 0, 0, 0, 0, 0, 0, 0, 0, 0, 0, 0, 0, 0, 0, 0, 0]\n",
      "[10, 7, 6, 6, 5, 5, 5, 4, 4, 4, 3, 3, 3, 3, 3, 3, 3, 2, 2, 2, 2, 2, 2, 2, 2, 2, 2, 2, 1, 1, 1, 1, 1, 1, 1, 1, 1, 1, 1, 1, 1, 0, 0, 0, 0, 0, 0, 0, 0, 0, 0, 0, 0, 0, 0, 0, 0, 0, 0, 0, 0, 0, 0, 0, 0, 0, 0, 0, 0, 0, 0, 0, 0, 0, 0, 0, 0, 0, 0, 0, 0, 0, 0, 0, 0]\n"
     ]
    },
    {
     "name": "stderr",
     "output_type": "stream",
     "text": [
      "Values less than or equal to 0 in data. Throwing out 0 or negative values\n",
      "Assuming nested distributions\n",
      "Values less than or equal to 0 in data. Throwing out 0 or negative values\n",
      "Assuming nested distributions\n"
     ]
    },
    {
     "name": "stdout",
     "output_type": "stream",
     "text": [
      "[11, 7, 7, 6, 5, 5, 5, 4, 4, 4, 4, 4, 3, 3, 3, 3, 3, 3, 2, 2, 2, 2, 2, 2, 2, 2, 2, 2, 1, 1, 1, 1, 1, 1, 1, 1, 1, 1, 1, 1, 1, 1, 0, 0, 0, 0, 0, 0, 0, 0, 0, 0, 0, 0, 0, 0, 0, 0, 0, 0, 0, 0, 0, 0, 0, 0, 0, 0, 0, 0, 0, 0, 0, 0, 0, 0, 0, 0, 0, 0, 0, 0, 0, 0, 0]\n",
      "[12, 9, 7, 7, 6, 6, 5, 5, 4, 4, 4, 4, 4, 3, 3, 3, 3, 3, 3, 3, 3, 2, 2, 2, 2, 2, 2, 2, 2, 2, 1, 1, 1, 1, 1, 1, 1, 1, 1, 1, 1, 1, 1, 0, 0, 0, 0, 0, 0, 0, 0, 0, 0, 0, 0, 0, 0, 0, 0, 0, 0, 0, 0, 0, 0, 0, 0, 0, 0, 0, 0, 0, 0, 0, 0, 0, 0, 0, 0, 0, 0, 0, 0, 0, 0]\n",
      "[13, 9, 8, 8, 8, 7, 6, 6, 5, 4, 4, 4, 4, 4, 4, 4, 3, 3, 3, 3, 3, 3, 3, 3, 2, 2, 2, 2, 2, 2, 2, 2, 1, 1, 1, 1, 1, 1, 1, 1, 1, 1, 1, 1, 1, 1, 1, 1, 1, 1, 1, 1, 0, 0, 0, 0, 0, 0, 0, 0, 0, 0, 0, 0, 0, 0, 0, 0, 0, 0, 0, 0, 0, 0, 0, 0, 0, 0, 0, 0, 0, 0, 0, 0, 0]\n"
     ]
    },
    {
     "name": "stderr",
     "output_type": "stream",
     "text": [
      "Values less than or equal to 0 in data. Throwing out 0 or negative values\n",
      "Assuming nested distributions\n",
      "Values less than or equal to 0 in data. Throwing out 0 or negative values\n",
      "Assuming nested distributions\n"
     ]
    },
    {
     "name": "stdout",
     "output_type": "stream",
     "text": [
      "[14, 9, 9, 8, 8, 8, 6, 6, 6, 5, 5, 4, 4, 4, 4, 4, 4, 4, 3, 3, 3, 3, 3, 3, 3, 3, 3, 3, 2, 2, 2, 2, 2, 2, 2, 2, 2, 1, 1, 1, 1, 1, 1, 1, 1, 1, 1, 1, 1, 1, 1, 1, 1, 1, 1, 0, 0, 0, 0, 0, 0, 0, 0, 0, 0, 0, 0, 0, 0, 0, 0, 0, 0, 0, 0, 0, 0, 0, 0, 0, 0, 0, 0, 0, 0]\n",
      "[15, 10, 9, 9, 8, 8, 8, 7, 6, 5, 5, 5, 4, 4, 4, 4, 4, 4, 4, 4, 4, 4, 4, 3, 3, 3, 3, 3, 3, 3, 2, 2, 2, 2, 2, 2, 2, 2, 1, 1, 1, 1, 1, 1, 1, 1, 1, 1, 1, 1, 1, 1, 1, 1, 1, 1, 0, 0, 0, 0, 0, 0, 0, 0, 0, 0, 0, 0, 0, 0, 0, 0, 0, 0, 0, 0, 0, 0, 0, 0, 0, 0, 0, 0, 0]\n"
     ]
    },
    {
     "name": "stderr",
     "output_type": "stream",
     "text": [
      "Values less than or equal to 0 in data. Throwing out 0 or negative values\n",
      "Assuming nested distributions\n",
      "Values less than or equal to 0 in data. Throwing out 0 or negative values\n",
      "Assuming nested distributions\n"
     ]
    },
    {
     "name": "stdout",
     "output_type": "stream",
     "text": [
      "[15, 11, 9, 9, 9, 8, 8, 7, 7, 7, 6, 6, 6, 5, 5, 5, 4, 4, 4, 4, 4, 4, 4, 4, 4, 4, 3, 3, 3, 3, 3, 3, 2, 2, 2, 2, 2, 2, 2, 2, 2, 2, 1, 1, 1, 1, 1, 1, 1, 1, 1, 1, 1, 1, 1, 1, 1, 1, 1, 0, 0, 0, 0, 0, 0, 0, 0, 0, 0, 0, 0, 0, 0, 0, 0, 0, 0, 0, 0, 0, 0, 0, 0, 0, 0]\n",
      "[15, 11, 9, 9, 9, 8, 8, 7, 7, 7, 6, 6, 6, 6, 6, 5, 5, 5, 4, 4, 4, 4, 4, 4, 4, 4, 4, 3, 3, 3, 3, 3, 3, 2, 2, 2, 2, 2, 2, 2, 2, 2, 2, 2, 1, 1, 1, 1, 1, 1, 1, 1, 1, 1, 1, 1, 1, 1, 1, 0, 0, 0, 0, 0, 0, 0, 0, 0, 0, 0, 0, 0, 0, 0, 0, 0, 0, 0, 0, 0, 0, 0, 0, 0, 0]\n"
     ]
    },
    {
     "name": "stderr",
     "output_type": "stream",
     "text": [
      "Values less than or equal to 0 in data. Throwing out 0 or negative values\n",
      "Assuming nested distributions\n",
      "Values less than or equal to 0 in data. Throwing out 0 or negative values\n",
      "Assuming nested distributions\n"
     ]
    },
    {
     "name": "stdout",
     "output_type": "stream",
     "text": [
      "[15, 11, 9, 9, 9, 8, 8, 8, 7, 7, 7, 6, 6, 6, 6, 6, 5, 5, 5, 5, 5, 4, 4, 4, 4, 4, 4, 4, 3, 3, 3, 3, 3, 3, 2, 2, 2, 2, 2, 2, 2, 2, 2, 2, 2, 2, 1, 1, 1, 1, 1, 1, 1, 1, 1, 1, 1, 1, 1, 0, 0, 0, 0, 0, 0, 0, 0, 0, 0, 0, 0, 0, 0, 0, 0, 0, 0, 0, 0, 0, 0, 0, 0, 0, 0]\n",
      "[15, 12, 11, 10, 10, 9, 8, 8, 8, 8, 7, 7, 7, 7, 6, 6, 6, 6, 6, 5, 5, 5, 5, 5, 4, 4, 4, 4, 4, 4, 4, 4, 4, 3, 3, 3, 3, 3, 2, 2, 2, 2, 2, 2, 2, 2, 2, 2, 1, 1, 1, 1, 1, 1, 1, 1, 1, 1, 1, 1, 1, 1, 1, 1, 1, 0, 0, 0, 0, 0, 0, 0, 0, 0, 0, 0, 0, 0, 0, 0, 0, 0, 0, 0, 0]\n"
     ]
    },
    {
     "name": "stderr",
     "output_type": "stream",
     "text": [
      "Values less than or equal to 0 in data. Throwing out 0 or negative values\n",
      "Assuming nested distributions\n",
      "Values less than or equal to 0 in data. Throwing out 0 or negative values\n",
      "Assuming nested distributions\n"
     ]
    },
    {
     "name": "stdout",
     "output_type": "stream",
     "text": [
      "[16, 14, 14, 13, 10, 9, 9, 9, 9, 9, 8, 7, 7, 7, 7, 7, 7, 6, 6, 5, 5, 5, 5, 5, 5, 5, 5, 4, 4, 4, 4, 4, 4, 4, 3, 3, 3, 3, 3, 3, 3, 3, 3, 2, 2, 2, 2, 2, 2, 2, 2, 2, 2, 2, 2, 2, 2, 1, 1, 1, 1, 1, 1, 1, 1, 1, 1, 1, 1, 1, 1, 1, 1, 1, 0, 0, 0, 0, 0, 0, 0, 0, 0, 0, 0]\n"
     ]
    },
    {
     "name": "stderr",
     "output_type": "stream",
     "text": [
      "Values less than or equal to 0 in data. Throwing out 0 or negative values\n",
      "Assuming nested distributions\n"
     ]
    },
    {
     "name": "stdout",
     "output_type": "stream",
     "text": [
      "[16, 15, 14, 13, 10, 10, 10, 9, 9, 9, 8, 8, 7, 7, 7, 7, 7, 7, 7, 6, 6, 6, 5, 5, 5, 5, 5, 5, 5, 5, 5, 5, 5, 4, 4, 4, 4, 4, 4, 4, 4, 3, 3, 3, 3, 3, 3, 3, 2, 2, 2, 2, 2, 2, 2, 2, 2, 2, 2, 2, 2, 2, 2, 1, 1, 1, 1, 1, 1, 1, 1, 1, 1, 1, 1, 0, 0, 0, 0, 0, 0, 0, 0, 0, 0]\n",
      "[18, 16, 15, 13, 11, 10, 10, 9, 9, 9, 8, 8, 8, 8, 7, 7, 7, 7, 7, 7, 7, 6, 6, 5, 5, 5, 5, 5, 5, 5, 5, 5, 5, 5, 5, 5, 5, 4, 4, 4, 4, 4, 3, 3, 3, 3, 3, 3, 3, 3, 3, 3, 2, 2, 2, 2, 2, 2, 2, 2, 2, 2, 2, 2, 1, 1, 1, 1, 1, 1, 1, 1, 1, 1, 1, 1, 1, 1, 1, 0, 0, 0, 0, 0, 0]\n"
     ]
    },
    {
     "name": "stderr",
     "output_type": "stream",
     "text": [
      "Values less than or equal to 0 in data. Throwing out 0 or negative values\n",
      "Assuming nested distributions\n",
      "Assuming nested distributions\n",
      "Values less than or equal to 0 in data. Throwing out 0 or negative values\n",
      "Assuming nested distributions\n"
     ]
    },
    {
     "name": "stdout",
     "output_type": "stream",
     "text": [
      "[18, 16, 15, 13, 11, 10, 10, 9, 9, 9, 8, 8, 8, 8, 8, 7, 7, 7, 7, 7, 7, 7, 6, 6, 6, 5, 5, 5, 5, 5, 5, 5, 5, 5, 5, 5, 5, 4, 4, 4, 4, 4, 3, 3, 3, 3, 3, 3, 3, 3, 3, 3, 2, 2, 2, 2, 2, 2, 2, 2, 2, 2, 2, 2, 2, 2, 1, 1, 1, 1, 1, 1, 1, 1, 1, 1, 1, 1, 1, 0, 0, 0, 0, 0, 0]\n"
     ]
    },
    {
     "name": "stderr",
     "output_type": "stream",
     "text": [
      "Assuming nested distributions\n",
      "Values less than or equal to 0 in data. Throwing out 0 or negative values\n",
      "Assuming nested distributions\n",
      "Assuming nested distributions\n"
     ]
    },
    {
     "data": {
      "text/plain": [
       "{2000: 'power_law',\n",
       " 2001: 'power_law',\n",
       " 2002: 'power_law',\n",
       " 2003: 'power_law',\n",
       " 2004: 'truncated_power_law',\n",
       " 2005: 'power_law',\n",
       " 2006: 'truncated_power_law',\n",
       " 2007: 'truncated_power_law',\n",
       " 2008: 'truncated_power_law',\n",
       " 2009: 'truncated_power_law',\n",
       " 2010: 'truncated_power_law',\n",
       " 2011: 'truncated_power_law',\n",
       " 2012: 'truncated_power_law',\n",
       " 2013: 'truncated_power_law',\n",
       " 2014: 'truncated_power_law',\n",
       " 2015: 'truncated_power_law',\n",
       " 2016: 'truncated_power_law',\n",
       " 2017: 'truncated_power_law',\n",
       " 2018: 'truncated_power_law',\n",
       " 2019: 'stretched_exponential',\n",
       " 2020: 'stretched_exponential',\n",
       " 2021: 'stretched_exponential'}"
      ]
     },
     "execution_count": 11,
     "metadata": {},
     "output_type": "execute_result"
    }
   ],
   "source": [
    "def find_most_likely_distribution(edge_year_pairings):\n",
    "    dist_name_list = [\"power_law\", \"truncated_power_law\", \"exponential\", \"stretched_exponential\", \"lognormal_positive\"]\n",
    "    best_dist_dict = {}\n",
    "    for year in range(2000, 2022):\n",
    "        fit = find_power_law_parameters(create_graph_for_year(edge_year_pairings, year))\n",
    "        dist_1 = dist_name_list[0]\n",
    "        for i in range(1, len(dist_name_list)):\n",
    "            dist_2 = dist_name_list[i]\n",
    "            r, p = fit.distribution_compare(dist_1, dist_2, normalized_ratio = True)\n",
    "            if (r<0):\n",
    "                dist_1 = dist_2\n",
    "        best_dist_dict[year] = dist_1\n",
    "    return best_dist_dict\n",
    "\n",
    "find_most_likely_distribution(edge_year_pairings)\n",
    "#should i find the distribution parameters for all?        "
   ]
  },
  {
   "cell_type": "code",
   "execution_count": 12,
   "metadata": {},
   "outputs": [
    {
     "data": {
      "image/png": "[encoded data removed]",
      "text/plain": [
       "<Figure size 864x1728 with 5 Axes>"
      ]
     },
     "metadata": {
      "needs_background": "light"
     },
     "output_type": "display_data"
    }
   ],
   "source": [
    "average_degree_list, average_clustering_coef_list, average_distance_list, connected_N_list, diameter_list = generate_properties_over_the_years()\n",
    "plot_properties(average_degree_list, average_clustering_coef_list, average_distance_list, connected_N_list, diameter_list)"
   ]
  },
  {
   "cell_type": "markdown",
   "metadata": {},
   "source": [
    "# Question 3\n",
    "\n",
    "### Analyze the collaboration between faculty of different ranks (e.g., Professor vs Assistant Professor).\n",
    "### there are profs, assoc profs and asst profs\n",
    "\n",
    "### Insights:\n",
    "\n",
    "1) Professors are not isolated\n",
    "\n",
    "- intra vs inter measures\n",
    "- lecturers are not involved in publications (need to check to assert)\n",
    "- are professors, hubs?\n",
    "- does the collaboration help APs get \"top publishings\" more?\n",
    "- are they necessarily from the same domain?\n",
    "- which ranks have a higher tendency to be partnering\n",
    "- which rank is involved the most\n",
    "- "
   ]
  },
  {
   "cell_type": "code",
   "execution_count": null,
   "metadata": {},
   "outputs": [],
   "source": [
    "isolates_list = list(nx.isolates(avp_graph))"
   ]
  },
  {
   "cell_type": "code",
   "execution_count": null,
   "metadata": {
    "scrolled": true
   },
   "outputs": [],
   "source": [
    "conn_set = set(avp_graph).difference(isolates_list)\n",
    "for i in conn_set:\n",
    "    print(faculty_graph.nodes()[i][\"Position\"])"
   ]
  },
  {
   "cell_type": "code",
   "execution_count": 13,
   "metadata": {},
   "outputs": [],
   "source": [
    "# i need a function to generate a graph that only retains the correct edges\n",
    "# this takes original graph G, and yields the subgraph required\n",
    "def graph_collaboration_between(G, rank_1, rank_2, col_name):\n",
    "    distinct_edges = set(G.edges())\n",
    "    rank_set = set([rank_1, rank_2])\n",
    "    desired_edges = []\n",
    "    \n",
    "    #for each edge, check that it has rank_1 and rank_2 \n",
    "    for edge in distinct_edges:\n",
    "        rank_list = []\n",
    "        for node_index in edge:\n",
    "            rank_list.append(G.nodes()[node_index][col_name])\n",
    "        r_set = set(rank_list)\n",
    "        if rank_set == r_set:\n",
    "            desired_edges.append(edge)\n",
    "    \n",
    "    #take empty graph\n",
    "    fac_graph = generate_empty_faculty_graph()\n",
    "    fac_graph.add_edges_from(desired_edges)\n",
    "    \n",
    "    return fac_graph\n",
    "\n",
    "\n",
    "# helper function to count the number of each class  \n",
    "def count_number_of(G, col_name):\n",
    "    count_dict = {}\n",
    "    for i in range(len(G.nodes())):\n",
    "        node = G.nodes()[i]\n",
    "        if (node[col_name] not in list(count_dict.keys())):\n",
    "            count_dict[node[col_name]] = 1\n",
    "        else:\n",
    "            count_dict[node[col_name]] = count_dict[node[col_name]] + 1\n",
    "            \n",
    "    return count_dict\n",
    "\n",
    "# function to analyze the properties of collaboration\n",
    "# basically bigraph analysis\n",
    "def analyze_collaboration(G, rank_1, rank_2, col_name):\n",
    "    same_rank = False\n",
    "    if (rank_1 == rank_2):\n",
    "        same_rank = True\n",
    "    \n",
    "    collab_graph = graph_collaboration_between(G, rank_1, rank_2, col_name)\n",
    "    count_dict = count_number_of(G, col_name)\n",
    "    \n",
    "    # find how many rank_1 connected to rank_2\n",
    "    num_rank_1 = 0\n",
    "    if (same_rank == False):\n",
    "        num_rank_2 = 0\n",
    "    conn_nodes = connected_nodes(collab_graph)\n",
    "    for i in conn_nodes:\n",
    "        if G.nodes()[i][col_name] == rank_1:\n",
    "            num_rank_1 = num_rank_1 + 1\n",
    "        else:\n",
    "            num_rank_2 = num_rank_2 + 1\n",
    "    \n",
    "    # analyze the collaboration properties\n",
    "    \n",
    "    # what proportion of rank_1 involved \n",
    "    proportion_rank_1_involved = num_rank_1 / count_dict[rank_1]\n",
    "    \n",
    "    if (same_rank == False):\n",
    "        # what proportion of rank_2 involved\n",
    "        proportion_rank_2_involved = num_rank_2 / count_dict[rank_2]\n",
    "    \n",
    "    # number of edges going in between the two groups\n",
    "    num_edges = len(list(collab_graph.edges()))\n",
    "    if (same_rank == False):\n",
    "        total_possible_num_edges = count_dict[rank_1] * count_dict[rank_2]\n",
    "    else:\n",
    "        total_possible_num_edges = count_dict[rank_1] * (count_dict[rank_1] - 1)\n",
    "    proportion_of_edges_present = num_edges / total_possible_num_edges\n",
    "    \n",
    "    if (same_rank == False):\n",
    "        return proportion_rank_1_involved, proportion_rank_2_involved, proportion_of_edges_present\n",
    "    else:\n",
    "        return proportion_rank_1_involved, proportion_of_edges_present\n",
    "    \n",
    "    "
   ]
  },
  {
   "cell_type": "code",
   "execution_count": 14,
   "metadata": {},
   "outputs": [
    {
     "data": {
      "text/plain": [
       "(0.42857142857142855, 0.011904761904761904)"
      ]
     },
     "execution_count": 14,
     "metadata": {},
     "output_type": "execute_result"
    }
   ],
   "source": [
    "analyze_collaboration(faculty_graph, \"Assistant Professor\", \"Assistant Professor\", \"Position\")"
   ]
  },
  {
   "cell_type": "code",
   "execution_count": 15,
   "metadata": {},
   "outputs": [
    {
     "data": {
      "text/plain": [
       "(0.8125, 0.09583333333333334)"
      ]
     },
     "execution_count": 15,
     "metadata": {},
     "output_type": "execute_result"
    }
   ],
   "source": [
    "analyze_collaboration(faculty_graph, \"Professor\", \"Professor\", \"Position\")"
   ]
  },
  {
   "cell_type": "code",
   "execution_count": 16,
   "metadata": {
    "scrolled": false
   },
   "outputs": [
    {
     "data": {
      "text/plain": [
       "(0.8108108108108109, 0.03528528528528529)"
      ]
     },
     "execution_count": 16,
     "metadata": {},
     "output_type": "execute_result"
    }
   ],
   "source": [
    "analyze_collaboration(faculty_graph, \"Associate Professor\", \"Associate Professor\", \"Position\")"
   ]
  },
  {
   "cell_type": "code",
   "execution_count": 17,
   "metadata": {},
   "outputs": [
    {
     "data": {
      "text/plain": [
       "(0.7619047619047619, 0.6875, 0.07738095238095238)"
      ]
     },
     "execution_count": 17,
     "metadata": {},
     "output_type": "execute_result"
    }
   ],
   "source": [
    "analyze_collaboration(faculty_graph, \"Assistant Professor\", \"Professor\", \"Position\")"
   ]
  },
  {
   "cell_type": "code",
   "execution_count": 18,
   "metadata": {
    "scrolled": false
   },
   "outputs": [
    {
     "data": {
      "text/plain": [
       "(0.8378378378378378, 1.0, 0.09121621621621621)"
      ]
     },
     "execution_count": 18,
     "metadata": {},
     "output_type": "execute_result"
    }
   ],
   "source": [
    "analyze_collaboration(faculty_graph, \"Associate Professor\", \"Professor\", \"Position\")"
   ]
  },
  {
   "cell_type": "code",
   "execution_count": 19,
   "metadata": {},
   "outputs": [
    {
     "data": {
      "text/plain": [
       "(0.24324324324324326, 0.47619047619047616, 0.018018018018018018)"
      ]
     },
     "execution_count": 19,
     "metadata": {},
     "output_type": "execute_result"
    }
   ],
   "source": [
    "analyze_collaboration(faculty_graph, \"Associate Professor\", \"Assistant Professor\", \"Position\")"
   ]
  },
  {
   "cell_type": "code",
   "execution_count": 20,
   "metadata": {},
   "outputs": [],
   "source": [
    "def obtain_class_names(G, col_name):\n",
    "    class_names_list = []\n",
    "    for i in range(G.number_of_nodes()):\n",
    "        class_name = G.nodes()[i][col_name]\n",
    "        if (class_name not in class_names_list):\n",
    "            class_names_list.append(class_name)\n",
    "    return class_names_list\n",
    "\n",
    "def iterate_through_all_pairs(G, col_name):\n",
    "    class_names_list = obtain_class_names(G, col_name)\n",
    "    output_template = \"The proportion of \"\n",
    "\n",
    "    \n",
    "    for i in range(len(class_names_list)):\n",
    "        for j in range(i, len(class_names_list)):\n",
    "            print(\"Collaboration between \" + class_names_list[i] + \" and \" + class_names_list[j] + \":\")\n",
    "            results_tuple = analyze_collaboration(G, class_names_list[i], class_names_list[j], col_name)\n",
    "            if (len(results_tuple) == 2):\n",
    "                print(output_template + class_names_list[i] + \" linked up is: \" + str (results_tuple[0]) + \".\")\n",
    "                print(\"Of all possible edges between the two classes of the bigraph, \" + str (results_tuple[1]) + \" are observed in the collaboration network.\")\n",
    "            elif (len(results_tuple) == 3):\n",
    "                print(output_template + class_names_list[i] + \" linked up is: \" + str (results_tuple[0]) + \".\")\n",
    "                print(output_template + class_names_list[j] + \" linked up is: \" + str (results_tuple[1]) + \".\")\n",
    "                print(\"Of all possible edges between the two classes of the bigraph, \" + str (results_tuple[2]) + \" are observed in the collaboration network.\")\n",
    "                \n",
    "            print()\n",
    "            print()"
   ]
  },
  {
   "cell_type": "code",
   "execution_count": 21,
   "metadata": {},
   "outputs": [
    {
     "name": "stdout",
     "output_type": "stream",
     "text": [
      "Collaboration between Associate Professor and Associate Professor:\n",
      "The proportion of Associate Professor linked up is: 0.8108108108108109.\n",
      "Of all possible edges between the two classes of the bigraph, 0.03528528528528529 are observed in the collaboration network.\n",
      "\n",
      "\n",
      "Collaboration between Associate Professor and Assistant Professor:\n",
      "The proportion of Associate Professor linked up is: 0.24324324324324326.\n",
      "The proportion of Assistant Professor linked up is: 0.47619047619047616.\n",
      "Of all possible edges between the two classes of the bigraph, 0.018018018018018018 are observed in the collaboration network.\n",
      "\n",
      "\n",
      "Collaboration between Associate Professor and Professor:\n",
      "The proportion of Associate Professor linked up is: 0.8378378378378378.\n",
      "The proportion of Professor linked up is: 1.0.\n",
      "Of all possible edges between the two classes of the bigraph, 0.09121621621621621 are observed in the collaboration network.\n",
      "\n",
      "\n",
      "Collaboration between Associate Professor and Senior Lecturer:\n",
      "The proportion of Associate Professor linked up is: 0.16216216216216217.\n",
      "The proportion of Senior Lecturer linked up is: 0.6.\n",
      "Of all possible edges between the two classes of the bigraph, 0.032432432432432434 are observed in the collaboration network.\n",
      "\n",
      "\n",
      "Collaboration between Associate Professor and Lecturer:\n",
      "The proportion of Associate Professor linked up is: 0.08108108108108109.\n",
      "The proportion of Lecturer linked up is: 0.6666666666666666.\n",
      "Of all possible edges between the two classes of the bigraph, 0.018018018018018018 are observed in the collaboration network.\n",
      "\n",
      "\n",
      "Collaboration between Assistant Professor and Assistant Professor:\n",
      "The proportion of Assistant Professor linked up is: 0.42857142857142855.\n",
      "Of all possible edges between the two classes of the bigraph, 0.011904761904761904 are observed in the collaboration network.\n",
      "\n",
      "\n",
      "Collaboration between Assistant Professor and Professor:\n",
      "The proportion of Assistant Professor linked up is: 0.7619047619047619.\n",
      "The proportion of Professor linked up is: 0.6875.\n",
      "Of all possible edges between the two classes of the bigraph, 0.07738095238095238 are observed in the collaboration network.\n",
      "\n",
      "\n",
      "Collaboration between Assistant Professor and Senior Lecturer:\n",
      "The proportion of Assistant Professor linked up is: 0.047619047619047616.\n",
      "The proportion of Senior Lecturer linked up is: 0.2.\n",
      "Of all possible edges between the two classes of the bigraph, 0.009523809523809525 are observed in the collaboration network.\n",
      "\n",
      "\n",
      "Collaboration between Assistant Professor and Lecturer:\n",
      "The proportion of Assistant Professor linked up is: 0.047619047619047616.\n",
      "The proportion of Lecturer linked up is: 0.16666666666666666.\n",
      "Of all possible edges between the two classes of the bigraph, 0.007936507936507936 are observed in the collaboration network.\n",
      "\n",
      "\n",
      "Collaboration between Professor and Professor:\n",
      "The proportion of Professor linked up is: 0.8125.\n",
      "Of all possible edges between the two classes of the bigraph, 0.09583333333333334 are observed in the collaboration network.\n",
      "\n",
      "\n",
      "Collaboration between Professor and Senior Lecturer:\n",
      "The proportion of Professor linked up is: 0.25.\n",
      "The proportion of Senior Lecturer linked up is: 0.6.\n",
      "Of all possible edges between the two classes of the bigraph, 0.0625 are observed in the collaboration network.\n",
      "\n",
      "\n",
      "Collaboration between Professor and Lecturer:\n",
      "The proportion of Professor linked up is: 0.125.\n",
      "The proportion of Lecturer linked up is: 0.16666666666666666.\n",
      "Of all possible edges between the two classes of the bigraph, 0.020833333333333332 are observed in the collaboration network.\n",
      "\n",
      "\n",
      "Collaboration between Senior Lecturer and Senior Lecturer:\n",
      "The proportion of Senior Lecturer linked up is: 0.4.\n",
      "Of all possible edges between the two classes of the bigraph, 0.05 are observed in the collaboration network.\n",
      "\n",
      "\n",
      "Collaboration between Senior Lecturer and Lecturer:\n",
      "The proportion of Senior Lecturer linked up is: 0.0.\n",
      "The proportion of Lecturer linked up is: 0.0.\n",
      "Of all possible edges between the two classes of the bigraph, 0.0 are observed in the collaboration network.\n",
      "\n",
      "\n",
      "Collaboration between Lecturer and Lecturer:\n",
      "The proportion of Lecturer linked up is: 0.0.\n",
      "Of all possible edges between the two classes of the bigraph, 0.0 are observed in the collaboration network.\n",
      "\n",
      "\n"
     ]
    }
   ],
   "source": [
    "iterate_through_all_pairs(faculty_graph, \"Position\")"
   ]
  },
  {
   "cell_type": "markdown",
   "metadata": {},
   "source": [
    "# Q6 given a set of faculty members..."
   ]
  },
  {
   "cell_type": "code",
   "execution_count": 24,
   "metadata": {},
   "outputs": [],
   "source": [
    "def construct_name_id_dict(G):\n",
    "    name_id_dict = {}\n",
    "    for i in range(G.number_of_nodes()):\n",
    "        node = G.nodes()[i]\n",
    "        name_id_dict[node[\"Faculty\"]] = i\n",
    "    return name_id_dict\n",
    "\n",
    "def construct_fac_id_set(name_id_dict, name_set):\n",
    "    fac_id_set = []\n",
    "    all_faculty_names = list(name_id_dict.keys())\n",
    "    for name in name_set:\n",
    "        if (name in all_faculty_names):\n",
    "            fac_id_set.append(name_id_dict[name])\n",
    "        \n",
    "    return fac_id_set\n",
    "\n",
    "def construct_subgraph(G, fac_id_set):\n",
    "    edges = set(G.edges())\n",
    "    desired_edges = []\n",
    "    for edge in edges:\n",
    "        if (edge[0] in fac_id_set and edge[1] in fac_id_set):\n",
    "            desired_edges.append(edge)\n",
    "    \n",
    "    # construct the graph\n",
    "    subgraph = generate_empty_faculty_graph()\n",
    "    subgraph.add_edges_from(desired_edges)\n",
    "    \n",
    "    return subgraph\n",
    "    \n",
    "\n",
    "def analyze_collab_of_fac_set(G, name_set):\n",
    "    name_id_dict = construct_name_id_dict(G)\n",
    "    fac_id_set = construct_fac_id_set(name_id_dict, name_set)\n",
    "    subgraph = construct_subgraph(G, fac_id_set) #doesn't have multiple edges\n",
    "    print(subgraph.edges())\n",
    "    \n",
    "    avg_dist = average_distance(subgraph)[0]\n",
    "    avg_deg = average_degree(subgraph, False)\n",
    "    avg_clust_coef = average_clustering_coef(subgraph)\n",
    "    diam = diameter(subgraph)\n",
    "    N = len(connected_nodes(subgraph))\n",
    "    \n",
    "    # probably can include the best fit?\n",
    "    \n",
    "    return avg_dist, avg_deg, avg_clust_coef, diam, N\n",
    "    \n",
    "    "
   ]
  },
  {
   "cell_type": "code",
   "execution_count": 25,
   "metadata": {},
   "outputs": [
    {
     "name": "stdout",
     "output_type": "stream",
     "text": [
      "[(16, 75)]\n"
     ]
    },
    {
     "data": {
      "text/plain": [
       "(1.0, 0.023529411764705882, 0.0, 1, 2)"
      ]
     },
     "execution_count": 25,
     "metadata": {},
     "output_type": "execute_result"
    }
   ],
   "source": [
    "analyze_collab_of_fac_set(faculty_graph, [\"Arijit Khan\", \"Erik Cambria\", \"Miao Chunyan\", \"Dusit Niyato\"])"
   ]
  },
  {
   "cell_type": "code",
   "execution_count": 26,
   "metadata": {},
   "outputs": [],
   "source": [
    "dblp_df = pd.read_csv(\"dblp_df.csv\")"
   ]
  },
  {
   "cell_type": "code",
   "execution_count": 101,
   "metadata": {},
   "outputs": [],
   "source": [
    "def process_key(key):\n",
    "    split_list = key.split(\"/\")\n",
    "    return split_list[1]\n",
    "\n",
    "def filter_entries_in_top_locations(top_codes, data):\n",
    "    top_df = pd.DataFrame(columns = data.columns)\n",
    "    for i in range(data.shape[0]):\n",
    "        key = data.iloc[i, 2]\n",
    "        location = process_key(key)\n",
    "        if location in top_codes:\n",
    "            top_df = top_df.append(data.iloc[i, :])\n",
    "    return top_df\n",
    "\n",
    "def filter_entries_in_own_domain(top_df, faculty_df, location_df):\n",
    "    \n",
    "    area_top_df = pd.DataFrame(columns = top_df.columns)\n",
    "    # check each row if it is required or not\n",
    "    for i in range(top_df.shape[0]):\n",
    "        row = top_df.iloc[i, :]\n",
    "        key = process_key(row[\"key\"])\n",
    "        fac = row[\"Faculty\"]\n",
    "        area = faculty_df[faculty_df[\"Faculty\"] == fac][\"Area\"]\n",
    "        area = area[area.index[0]]\n",
    "        area_loc = location_df[location_df[\"Area\"] == area][\"DBLP Conference\"]\n",
    "        area_loc = area_loc[area_loc.index[0]]\n",
    "        if (area_loc == key):\n",
    "            area_top_df = area_top_df.append(row)\n",
    "    \n",
    "    return area_top_df\n",
    "        \n",
    "    "
   ]
  },
  {
   "cell_type": "code",
   "execution_count": 32,
   "metadata": {},
   "outputs": [],
   "source": [
    "location_df = pd.read_csv(\"Top.csv\")"
   ]
  },
  {
   "cell_type": "code",
   "execution_count": 33,
   "metadata": {},
   "outputs": [],
   "source": [
    "top_codes = list(location_df[\"DBLP Conference\"])"
   ]
  },
  {
   "cell_type": "code",
   "execution_count": 36,
   "metadata": {},
   "outputs": [],
   "source": [
    "top_df = filter_entries_in_top_locations(top_codes, dblp_df)"
   ]
  },
  {
   "cell_type": "code",
   "execution_count": 44,
   "metadata": {},
   "outputs": [
    {
     "data": {
      "text/html": [
       "<div>\n",
       "<style scoped>\n",
       "    .dataframe tbody tr th:only-of-type {\n",
       "        vertical-align: middle;\n",
       "    }\n",
       "\n",
       "    .dataframe tbody tr th {\n",
       "        vertical-align: top;\n",
       "    }\n",
       "\n",
       "    .dataframe thead th {\n",
       "        text-align: right;\n",
       "    }\n",
       "</style>\n",
       "<table border=\"1\" class=\"dataframe\">\n",
       "  <thead>\n",
       "    <tr style=\"text-align: right;\">\n",
       "      <th></th>\n",
       "      <th>f_index</th>\n",
       "      <th>Faculty</th>\n",
       "      <th>key</th>\n",
       "      <th>Year</th>\n",
       "      <th>published_name</th>\n",
       "      <th>Other Authors</th>\n",
       "      <th>Author Contribution Index</th>\n",
       "    </tr>\n",
       "  </thead>\n",
       "  <tbody>\n",
       "    <tr>\n",
       "      <th>427</th>\n",
       "      <td>2</td>\n",
       "      <td>Anupam Chattopadhyay</td>\n",
       "      <td>conf/ccs/RaviJHCB19</td>\n",
       "      <td>2019</td>\n",
       "      <td>Anupam Chattopadhyay</td>\n",
       "      <td>['Prasanna Ravi', 'Mahabir Prasad Jhanwar', 'J...</td>\n",
       "      <td>4</td>\n",
       "    </tr>\n",
       "  </tbody>\n",
       "</table>\n",
       "</div>"
      ],
      "text/plain": [
       "    f_index               Faculty                  key  Year  \\\n",
       "427       2  Anupam Chattopadhyay  conf/ccs/RaviJHCB19  2019   \n",
       "\n",
       "           published_name                                      Other Authors  \\\n",
       "427  Anupam Chattopadhyay  ['Prasanna Ravi', 'Mahabir Prasad Jhanwar', 'J...   \n",
       "\n",
       "    Author Contribution Index  \n",
       "427                         4  "
      ]
     },
     "execution_count": 44,
     "metadata": {},
     "output_type": "execute_result"
    }
   ],
   "source": [
    "top_df.head(1)"
   ]
  },
  {
   "cell_type": "code",
   "execution_count": 99,
   "metadata": {
    "scrolled": false
   },
   "outputs": [
    {
     "data": {
      "text/html": [
       "<div>\n",
       "<style scoped>\n",
       "    .dataframe tbody tr th:only-of-type {\n",
       "        vertical-align: middle;\n",
       "    }\n",
       "\n",
       "    .dataframe tbody tr th {\n",
       "        vertical-align: top;\n",
       "    }\n",
       "\n",
       "    .dataframe thead th {\n",
       "        text-align: right;\n",
       "    }\n",
       "</style>\n",
       "<table border=\"1\" class=\"dataframe\">\n",
       "  <thead>\n",
       "    <tr style=\"text-align: right;\">\n",
       "      <th></th>\n",
       "      <th>Faculty</th>\n",
       "      <th>Area</th>\n",
       "    </tr>\n",
       "  </thead>\n",
       "  <tbody>\n",
       "    <tr>\n",
       "      <th>0</th>\n",
       "      <td>A S Madhukumar</td>\n",
       "      <td>Computer Networks</td>\n",
       "    </tr>\n",
       "  </tbody>\n",
       "</table>\n",
       "</div>"
      ],
      "text/plain": [
       "          Faculty               Area\n",
       "0  A S Madhukumar  Computer Networks"
      ]
     },
     "execution_count": 99,
     "metadata": {},
     "output_type": "execute_result"
    }
   ],
   "source": [
    "faculty_df = pd.read_csv(\"Faculty.csv\")\n",
    "faculty_df = faculty_df.iloc[:, [0,5]]\n",
    "faculty_df.head(1)"
   ]
  },
  {
   "cell_type": "code",
   "execution_count": 49,
   "metadata": {},
   "outputs": [
    {
     "data": {
      "text/html": [
       "<div>\n",
       "<style scoped>\n",
       "    .dataframe tbody tr th:only-of-type {\n",
       "        vertical-align: middle;\n",
       "    }\n",
       "\n",
       "    .dataframe tbody tr th {\n",
       "        vertical-align: top;\n",
       "    }\n",
       "\n",
       "    .dataframe thead th {\n",
       "        text-align: right;\n",
       "    }\n",
       "</style>\n",
       "<table border=\"1\" class=\"dataframe\">\n",
       "  <thead>\n",
       "    <tr style=\"text-align: right;\">\n",
       "      <th></th>\n",
       "      <th>Area</th>\n",
       "      <th>DBLP Conference</th>\n",
       "    </tr>\n",
       "  </thead>\n",
       "  <tbody>\n",
       "    <tr>\n",
       "      <th>0</th>\n",
       "      <td>Data Management</td>\n",
       "      <td>sigmod</td>\n",
       "    </tr>\n",
       "  </tbody>\n",
       "</table>\n",
       "</div>"
      ],
      "text/plain": [
       "              Area DBLP Conference\n",
       "0  Data Management          sigmod"
      ]
     },
     "execution_count": 49,
     "metadata": {},
     "output_type": "execute_result"
    }
   ],
   "source": [
    "location_df = location_df.iloc[:, [0,4]]\n",
    "location_df.head(1)"
   ]
  },
  {
   "cell_type": "code",
   "execution_count": 51,
   "metadata": {},
   "outputs": [],
   "source": [
    "row = top_df.iloc[0,:]"
   ]
  },
  {
   "cell_type": "code",
   "execution_count": 102,
   "metadata": {
    "scrolled": false
   },
   "outputs": [],
   "source": [
    "correct_area_top_df = filter_entries_in_own_domain(top_df, faculty_df, location_df)"
   ]
  },
  {
   "cell_type": "code",
   "execution_count": 80,
   "metadata": {},
   "outputs": [
    {
     "data": {
      "text/plain": [
       "'Computer Networks'"
      ]
     },
     "execution_count": 80,
     "metadata": {},
     "output_type": "execute_result"
    }
   ],
   "source": [
    "faculty_df[faculty_df[\"Faculty\"] == \"A S Madhukumar\"][\"Area\"][0]"
   ]
  },
  {
   "cell_type": "code",
   "execution_count": 75,
   "metadata": {},
   "outputs": [
    {
     "data": {
      "text/plain": [
       "'Anupam Chattopadhyay'"
      ]
     },
     "execution_count": 75,
     "metadata": {},
     "output_type": "execute_result"
    }
   ],
   "source": [
    "top_df.iloc[0,:][\"Faculty\"]"
   ]
  },
  {
   "cell_type": "code",
   "execution_count": 105,
   "metadata": {},
   "outputs": [],
   "source": [
    "excellence_publications = correct_area_top_df[correct_area_top_df[\"Year\"] > 2010]"
   ]
  },
  {
   "cell_type": "code",
   "execution_count": 127,
   "metadata": {},
   "outputs": [],
   "source": [
    "num_top_pubs = dict(excellence_publications[\"f_index\"].value_counts())"
   ]
  },
  {
   "cell_type": "code",
   "execution_count": 114,
   "metadata": {},
   "outputs": [],
   "source": [
    "btwn_scores = betweenness_centrality(faculty_graph)\n",
    "faculty_df[\"betweenness_centrality\"] = list(btwn_scores.values())"
   ]
  },
  {
   "cell_type": "code",
   "execution_count": 122,
   "metadata": {},
   "outputs": [],
   "source": [
    "close_scores = closeness_centrality(faculty_graph)\n",
    "faculty_df[\"closeness_centrality\"] = list(close_scores.values())"
   ]
  },
  {
   "cell_type": "code",
   "execution_count": 125,
   "metadata": {},
   "outputs": [],
   "source": [
    "eigen_scores = eigenvector_centrality(faculty_graph)\n",
    "faculty_df[\"eigenvector_centrality\"] = list(eigen_scores.values())"
   ]
  },
  {
   "cell_type": "code",
   "execution_count": 129,
   "metadata": {},
   "outputs": [],
   "source": [
    "norm_deg_scores = normalised_degree_centrality(faculty_graph)\n",
    "faculty_df[\"normalised_degree_centrality\"] = list(norm_deg_scores.values())"
   ]
  },
  {
   "cell_type": "code",
   "execution_count": 131,
   "metadata": {},
   "outputs": [],
   "source": [
    "#append the num_top_pubs\n",
    "faculty_df[\"num_top_pubs\"] = 0\n",
    "for key, value in num_top_pubs.items():\n",
    "    faculty_df.iloc[key, 6] = value"
   ]
  },
  {
   "cell_type": "code",
   "execution_count": 141,
   "metadata": {},
   "outputs": [],
   "source": [
    "from scipy.stats import spearmanr\n",
    "\n",
    "coef, p = spearmanr(faculty_df[\"eigenvector_centrality\"], faculty_df[\"num_top_pubs\"])"
   ]
  },
  {
   "cell_type": "code",
   "execution_count": null,
   "metadata": {},
   "outputs": [],
   "source": []
  }
 ],
 "metadata": {
  "kernelspec": {
   "display_name": "Python 3",
   "language": "python",
   "name": "python3"
  },
  "language_info": {
   "codemirror_mode": {
    "name": "ipython",
    "version": 3
   },
   "file_extension": ".py",
   "mimetype": "text/x-python",
   "name": "python",
   "nbconvert_exporter": "python",
   "pygments_lexer": "ipython3",
   "version": "3.6.8"
  }
 },
 "nbformat": 4,
 "nbformat_minor": 2
}
