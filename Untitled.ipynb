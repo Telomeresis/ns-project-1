{
 "cells": [
  {
   "cell_type": "code",
   "execution_count": 1,
   "metadata": {},
   "outputs": [],
   "source": [
    "import networkx as nx\n",
    "import pandas as pd\n",
    "import numpy as np\n",
    "from itertools import combinations\n",
    "import matplotlib.pyplot as plt\n",
    "import pickle\n",
    "import seaborn as sb\n",
    "from collections import Counter\n",
    "import collections\n",
    "from sklearn.linear_model import LinearRegression\n",
    "import powerlaw"
   ]
  },
  {
   "cell_type": "code",
   "execution_count": null,
   "metadata": {
    "scrolled": false
   },
   "outputs": [],
   "source": [
    "! pip install --upgrade networkx"
   ]
  },
  {
   "cell_type": "code",
   "execution_count": 145,
   "metadata": {},
   "outputs": [
    {
     "name": "stdout",
     "output_type": "stream",
     "text": [
      "Collecting powerlaw\n",
      "  Downloading powerlaw-1.4.6.tar.gz (27 kB)\n",
      "Requirement already satisfied: scipy in /anaconda3/lib/python3.6/site-packages (from powerlaw) (1.2.1)\n",
      "Requirement already satisfied: numpy in /anaconda3/lib/python3.6/site-packages (from powerlaw) (1.18.2)\n",
      "Requirement already satisfied: matplotlib in /anaconda3/lib/python3.6/site-packages (from powerlaw) (3.0.2)\n",
      "Requirement already satisfied: mpmath in /anaconda3/lib/python3.6/site-packages (from powerlaw) (1.1.0)\n",
      "Requirement already satisfied: cycler>=0.10 in /anaconda3/lib/python3.6/site-packages (from matplotlib->powerlaw) (0.10.0)\n",
      "Requirement already satisfied: kiwisolver>=1.0.1 in /anaconda3/lib/python3.6/site-packages (from matplotlib->powerlaw) (1.0.1)\n",
      "Requirement already satisfied: pyparsing!=2.0.4,!=2.1.2,!=2.1.6,>=2.0.1 in /anaconda3/lib/python3.6/site-packages (from matplotlib->powerlaw) (2.4.0)\n",
      "Requirement already satisfied: python-dateutil>=2.1 in /anaconda3/lib/python3.6/site-packages (from matplotlib->powerlaw) (2.8.0)\n",
      "Requirement already satisfied: six in /anaconda3/lib/python3.6/site-packages (from cycler>=0.10->matplotlib->powerlaw) (1.12.0)\n",
      "Requirement already satisfied: setuptools in /anaconda3/lib/python3.6/site-packages (from kiwisolver>=1.0.1->matplotlib->powerlaw) (40.8.0)\n",
      "Building wheels for collected packages: powerlaw\n",
      "  Building wheel for powerlaw (setup.py) ... \u001b[?25ldone\n",
      "\u001b[?25h  Created wheel for powerlaw: filename=powerlaw-1.4.6-py3-none-any.whl size=24788 sha256=f36fa94f01c6ba67b03409d5a7c58851c23e6394f9714c6546be8dd05db1fbc5\n",
      "  Stored in directory: /Users/kiathwe97/Library/Caches/pip/wheels/1b/94/41/7204537a9537a97cbfee259430285c021285e17c578d3bb9e7\n",
      "Successfully built powerlaw\n",
      "Installing collected packages: powerlaw\n",
      "Successfully installed powerlaw-1.4.6\n",
      "\u001b[33mWARNING: You are using pip version 21.0; however, version 21.0.1 is available.\n",
      "You should consider upgrading via the '/anaconda3/bin/python -m pip install --upgrade pip' command.\u001b[0m\n"
     ]
    }
   ],
   "source": [
    "! pip install powerlaw"
   ]
  },
  {
   "cell_type": "code",
   "execution_count": 2,
   "metadata": {},
   "outputs": [],
   "source": [
    "# faculty_graph from file\n",
    "open_file = open(\"faculty_graph.pkl\", \"rb\")\n",
    "faculty_graph = pickle.load(open_file)\n",
    "open_file.close()\n",
    "\n",
    "# key_findex_list from file\n",
    "open_file = open(\"key_findex_list.pkl\", \"rb\")\n",
    "key_findex_list = pickle.load(open_file)\n",
    "open_file.close()"
   ]
  },
  {
   "cell_type": "markdown",
   "metadata": {},
   "source": [
    "# Question 1\n",
    "\n",
    "### What are the network properties of the SCSE faculty network? Note that the network should only contain SCSE faculty members as nodes. No other individual should be part of this network."
   ]
  },
  {
   "cell_type": "code",
   "execution_count": 7,
   "metadata": {},
   "outputs": [],
   "source": [
    "def average_degree(G):\n",
    "    findex_degree_pairs = list(G.degree())\n",
    "    degree_list = []\n",
    "    total_degree = 0\n",
    "    for pair in findex_degree_pairs:\n",
    "        total_degree = total_degree + pair[1]\n",
    "        degree_list.append(pair[1])\n",
    "\n",
    "    return total_degree / len(degree_list)\n",
    "\n",
    "\n",
    "# this average is just for pairs that are connected to each other\n",
    "def average_distance(G):\n",
    "    number_of_pairs = 0\n",
    "    total = 0\n",
    "    for i in range(len(G.nodes)):\n",
    "        \n",
    "        distances = nx.shortest_path_length(G, i)\n",
    "        for key in distances.keys():\n",
    "            if (key > i):\n",
    "                total = total + distances[key]\n",
    "                number_of_pairs = number_of_pairs + 1\n",
    "    return total / number_of_pairs, number_of_pairs\n",
    "\n",
    "# this max distance doesn't take into account those that are not connected \n",
    "\n",
    "def diameter(G):\n",
    "    max = -1\n",
    "    for i in range(len(G.nodes)):\n",
    "        distances = nx.shortest_path_length(G, i)\n",
    "        for distance in distances.values():\n",
    "            if distance > max:\n",
    "                max = distance\n",
    "    return max\n",
    "\n",
    "'''def plot_degree_distribution(G):\n",
    "    plt.title(\"Degree Distribution (Unscaled Axes)\")\n",
    "    sb.histplot(degree_list, stat = \"density\", kde = True) '''\n",
    "\n",
    "def plot_degree_distribution(G):\n",
    "    G = nx.Graph(G)\n",
    "    degrees = dict(G.degree())\n",
    "    degree_freq = Counter(list(degrees.values()))\n",
    "    degree_freq = sorted(degree_freq.items())\n",
    "    x, y = zip(*degree_freq)\n",
    "    y = np.array(y)\n",
    "    y = y / G.number_of_nodes()\n",
    "\n",
    "    plt.figure(figsize=(12, 8)) \n",
    "    plt.title(\"log-log degree distribution\")\n",
    "    plt.loglog(x, y,'go-') \n",
    "    plt.xlabel('Degree')\n",
    "    plt.ylabel('P(k)')\n",
    "    \n",
    "def isolated_nodes(G):\n",
    "    return list(nx.isolates(G))\n",
    "\n",
    "def clustering_coef(node_index, G):\n",
    "    edges = list(set(G.edges(node_index)))\n",
    "    neighbours = []\n",
    "        \n",
    "    for pair in edges:\n",
    "        neighbours.append(pair[1])\n",
    "    \n",
    "    if len(neighbours) == 0 or len(neighbours) == 1:\n",
    "        return 0\n",
    "    \n",
    "    e_i = 0\n",
    "    for i in range(len(neighbours)):\n",
    "        for j in range(i, len(neighbours)):\n",
    "            if G.has_edge(neighbours[i], neighbours[j]):\n",
    "                e_i = e_i + 1\n",
    "    return (2 * e_i)/(len(neighbours) * (len(neighbours) - 1))\n",
    "            \n",
    "def average_clustering_coef(G):\n",
    "    total = 0\n",
    "    for i in range(len(G.nodes())):\n",
    "        total = total + clustering_coef(i, G)\n",
    "    return total / len(G.nodes())\n",
    "\n",
    "def normalised_degree_centrality_score(node_index, G):\n",
    "    return len(set(G.edges(node_index))) / (len(G.nodes()) - 1)    \n",
    "\n",
    "def normalised_degree_centrality(G):\n",
    "    node_indices = list(G.nodes())\n",
    "    score_dict = {}\n",
    "    \n",
    "    for node_index in node_indices:\n",
    "        score_dict[node_index] = normalised_degree_centrality_score(node_index, G)\n",
    "        \n",
    "    return score_dict\n",
    "\n",
    "def freeman_variation(G):\n",
    "    # find the max degree\n",
    "    degrees = np.array(G.degree())\n",
    "    C_d = np.max(degrees)\n",
    "    \n",
    "    # find the numerator\n",
    "    numerator = np.sum(np.subtract(C_d, degrees)[1])\n",
    "    \n",
    "    #find the denominator\n",
    "    N = len(list(G.nodes()))\n",
    "    denominator = (N-1)*(N-2)\n",
    "    \n",
    "    return numerator / denominator\n",
    "\n",
    "def eigenvector_centrality(G):\n",
    "    H = nx.Graph(G)\n",
    "    return nx.eigenvector_centrality(H)\n",
    "\n",
    "def betweenness_centrality(G):\n",
    "    H = nx.Graph(G)\n",
    "    return nx.betweenness_centrality(H, normalized = True)\n",
    "\n",
    "def closeness_centrality(G):\n",
    "    H = nx.Graph(G)\n",
    "    return nx.closeness_centrality(H)\n",
    "\n",
    "def top_k_centrality(score_dict, k):\n",
    "    top_k_index = sorted(score_dict, key=score_dict.get, reverse=True)[:k]\n",
    "    return top_k_index\n",
    "\n",
    "def find_power_law_parameters(G):\n",
    "    G = nx.Graph(G)\n",
    "    degree_sequence = sorted([d for n, d in G.degree()], reverse=True) \n",
    "    fit = powerlaw.Fit(degree_sequence, xmin=1)\n",
    "    return fit"
   ]
  },
  {
   "cell_type": "code",
   "execution_count": 58,
   "metadata": {},
   "outputs": [
    {
     "name": "stderr",
     "output_type": "stream",
     "text": [
      "Values less than or equal to 0 in data. Throwing out 0 or negative values\n",
      "Values less than or equal to 0 in data. Throwing out 0 or negative values\n",
      "Values less than or equal to 0 in data. Throwing out 0 or negative values\n",
      "Values less than or equal to 0 in data. Throwing out 0 or negative values\n"
     ]
    },
    {
     "name": "stdout",
     "output_type": "stream",
     "text": [
      "2001\n",
      "1.7396987789254033\n",
      "0.08191192387372112\n",
      "2002\n",
      "1.7396987789254033\n",
      "0.08191192387372112\n",
      "2003\n",
      "2.186246529551223\n",
      "0.028797573777021336\n",
      "2004\n",
      "1.9182575207448225\n",
      "0.05507836587874705\n"
     ]
    },
    {
     "name": "stderr",
     "output_type": "stream",
     "text": [
      "Values less than or equal to 0 in data. Throwing out 0 or negative values\n",
      "Values less than or equal to 0 in data. Throwing out 0 or negative values\n",
      "Values less than or equal to 0 in data. Throwing out 0 or negative values\n",
      "Values less than or equal to 0 in data. Throwing out 0 or negative values\n",
      "Values less than or equal to 0 in data. Throwing out 0 or negative values\n"
     ]
    },
    {
     "name": "stdout",
     "output_type": "stream",
     "text": [
      "2005\n",
      "1.9044933321742226\n",
      "0.056845964244931005\n",
      "2006\n",
      "1.2662031182259537\n",
      "0.20544037142928695\n",
      "2007\n",
      "1.2662031182259537\n",
      "0.20544037142928695\n",
      "2008\n",
      "1.2947287372827785\n",
      "0.19541382285467568\n",
      "2009\n",
      "1.1044599484543922\n",
      "0.2693936682263257\n",
      "2010\n",
      "1.6202154974229632\n",
      "0.10518599352343702\n",
      "2011\n",
      "1.4967374642742646\n",
      "0.13446158388134521\n"
     ]
    },
    {
     "name": "stderr",
     "output_type": "stream",
     "text": [
      "Values less than or equal to 0 in data. Throwing out 0 or negative values\n",
      "Values less than or equal to 0 in data. Throwing out 0 or negative values\n",
      "Values less than or equal to 0 in data. Throwing out 0 or negative values\n"
     ]
    },
    {
     "name": "stdout",
     "output_type": "stream",
     "text": [
      "2012\n",
      "1.7918224166186525\n",
      "0.07316141680283904\n",
      "2013\n",
      "2.010642171198043\n",
      "0.04436326630123496\n",
      "2014\n",
      "2.17408461713196\n",
      "0.029698781004573307\n"
     ]
    },
    {
     "name": "stderr",
     "output_type": "stream",
     "text": [
      "Values less than or equal to 0 in data. Throwing out 0 or negative values\n",
      "Values less than or equal to 0 in data. Throwing out 0 or negative values\n",
      "Values less than or equal to 0 in data. Throwing out 0 or negative values\n"
     ]
    },
    {
     "name": "stdout",
     "output_type": "stream",
     "text": [
      "2015\n",
      "1.910078762243168\n",
      "0.056123073023801706\n",
      "2016\n",
      "1.709369259181863\n",
      "0.08738257146141779\n",
      "2017\n",
      "1.8294265758427717\n",
      "0.06733572940155214\n"
     ]
    },
    {
     "name": "stderr",
     "output_type": "stream",
     "text": [
      "Values less than or equal to 0 in data. Throwing out 0 or negative values\n",
      "Values less than or equal to 0 in data. Throwing out 0 or negative values\n",
      "Values less than or equal to 0 in data. Throwing out 0 or negative values\n"
     ]
    },
    {
     "name": "stdout",
     "output_type": "stream",
     "text": [
      "2018\n",
      "2.0343849950991966\n",
      "0.04191279353302789\n",
      "2019\n",
      "1.7905483197790093\n",
      "0.07336580663874827\n",
      "2020\n",
      "1.7034250197719\n",
      "0.08848855879144406\n"
     ]
    },
    {
     "name": "stderr",
     "output_type": "stream",
     "text": [
      "Values less than or equal to 0 in data. Throwing out 0 or negative values\n",
      "Values less than or equal to 0 in data. Throwing out 0 or negative values\n",
      "Values less than or equal to 0 in data. Throwing out 0 or negative values\n"
     ]
    },
    {
     "name": "stdout",
     "output_type": "stream",
     "text": [
      "2021\n",
      "1.5255035594356832\n",
      "0.12713354642387237\n"
     ]
    }
   ],
   "source": [
    "#this shows how alpha changes over the years\n",
    "for i in range(2001, 2022):\n",
    "    #maybe i can rank all of them, see which one is the most likely\n",
    "    fit = find_power_law_parameters(create_graph_for_year(key_findex_list, i))\n",
    "    R, p = fit.distribution_compare('truncated_power_law', 'exponential', normalized_ratio=True)\n",
    "    print(i)\n",
    "    print(R)\n",
    "    print(p)\n",
    "    \n",
    "#R is the ratio. If positive, means that truncated power law better fit than exponential\n",
    "#p is the probability. If <0.05, means I am more than 95% sure that truncated PL trumps exponential."
   ]
  },
  {
   "cell_type": "code",
   "execution_count": 4,
   "metadata": {},
   "outputs": [
    {
     "data": {
      "image/png": "[encoded data removed]",
      "text/plain": [
       "<Figure size 864x576 with 1 Axes>"
      ]
     },
     "metadata": {
      "needs_background": "light"
     },
     "output_type": "display_data"
    }
   ],
   "source": [
    "plot_degree_distribution(faculty_graph)"
   ]
  },
  {
   "cell_type": "code",
   "execution_count": 31,
   "metadata": {},
   "outputs": [],
   "source": [
    "fit.D?"
   ]
  },
  {
   "cell_type": "code",
   "execution_count": 50,
   "metadata": {},
   "outputs": [],
   "source": [
    "score_dict = closeness_centrality(faculty_graph)"
   ]
  },
  {
   "cell_type": "code",
   "execution_count": 51,
   "metadata": {
    "scrolled": true
   },
   "outputs": [
    {
     "name": "stdout",
     "output_type": "stream",
     "text": [
      "Lee Bu Sung Francis\n",
      "0.3460751488095238\n",
      "Dusit Niyato\n",
      "0.31416751097602164\n",
      "Miao Chunyan\n",
      "0.31416751097602164\n"
     ]
    }
   ],
   "source": [
    "top_3_degree_centrality_index = top_k_centrality(score_dict, 3)\n",
    "\n",
    "for i in top_3_degree_centrality_index:\n",
    "    print(faculty_graph.nodes()[i][\"Faculty\"])\n",
    "    print(score_dict[i])"
   ]
  },
  {
   "cell_type": "code",
   "execution_count": null,
   "metadata": {},
   "outputs": [],
   "source": [
    "# plot degree distribution in log scale (seems to have error dealing with 0)\n",
    "# would I want to change the binning?\n",
    "plt.title(\"Degree Distribution (Scaled Axes)\")\n",
    "sb.histplot(degree_list, stat = \"density\", log_scale = True)"
   ]
  },
  {
   "cell_type": "markdown",
   "metadata": {},
   "source": [
    "# Question 2\n",
    "\n",
    "### How has the network and its properties evolved since year 2000? That is, the program should be able to analyze the network properties over time (at yearly granularity).\n",
    "\n",
    "This means I can check year by year to see if:\n",
    "    - Are there any profs that consistently publish together\n",
    "    - Are the number of publications similar each year?\n",
    "\n",
    "\n",
    "I can also do a running one to see the growth of the graph\n",
    "\n",
    "Questions:\n",
    "How can I get alpha and C if I try to model using a scale free network?"
   ]
  },
  {
   "cell_type": "code",
   "execution_count": 42,
   "metadata": {},
   "outputs": [],
   "source": [
    "def generate_empty_faculty_graph():\n",
    "    open_file = open(\"empty_faculty_graph.pkl\", \"rb\")\n",
    "    faculty_graph = pickle.load(open_file)\n",
    "    open_file.close()\n",
    "    return faculty_graph\n",
    "    \n",
    "    \n",
    "def create_graph_for_year(key_findex_list, year):\n",
    "    # check index 2\n",
    "    desired_list = []\n",
    "    for item in key_findex_list:\n",
    "        if item[2] <= year:\n",
    "            desired_list.append(item)\n",
    "    \n",
    "    faculty_graph = generate_empty_faculty_graph()\n",
    "    for each in desired_list:\n",
    "        faculty_graph.add_edges_from(each[0], label=[each[1], each[2]])\n",
    "    \n",
    "    return faculty_graph\n",
    "    \n",
    "    \n",
    "            "
   ]
  },
  {
   "cell_type": "markdown",
   "metadata": {},
   "source": [
    "# Question 3\n",
    "\n",
    "### Analyze the collaboration between faculty of different ranks (e.g., Professor vs Assistant Professor).\n",
    "### there are profs, assoc profs and asst profs\n",
    "\n",
    "### Insights:\n",
    "\n",
    "1) Professors are not isolated\n",
    "\n",
    "- intra vs inter measures\n",
    "- lecturers are not involved in publications (need to check to assert)\n",
    "- are professors, hubs?\n",
    "- does the collaboration help APs get \"top publishings\" more?\n",
    "- are they necessarily from the same domain?\n",
    "- which ranks have a higher tendency to be partnering\n",
    "- which rank is involved the most\n",
    "- "
   ]
  },
  {
   "cell_type": "code",
   "execution_count": 22,
   "metadata": {},
   "outputs": [],
   "source": [
    "isolates_list = list(nx.isolates(avp_graph))"
   ]
  },
  {
   "cell_type": "code",
   "execution_count": 23,
   "metadata": {
    "scrolled": true
   },
   "outputs": [
    {
     "name": "stdout",
     "output_type": "stream",
     "text": [
      "Professor\n",
      "Professor\n",
      "Professor\n",
      "Assistant Professor\n",
      "Professor\n",
      "Assistant Professor\n",
      "Assistant Professor\n",
      "Assistant Professor\n",
      "Professor\n",
      "Assistant Professor\n",
      "Assistant Professor\n",
      "Assistant Professor\n",
      "Assistant Professor\n",
      "Assistant Professor\n",
      "Assistant Professor\n",
      "Professor\n",
      "Professor\n",
      "Professor\n",
      "Professor\n"
     ]
    }
   ],
   "source": [
    "conn_set = set(avp_graph).difference(isolates_list)\n",
    "for i in conn_set:\n",
    "    print(faculty_graph.nodes()[i][\"Position\"])"
   ]
  },
  {
   "cell_type": "code",
   "execution_count": 7,
   "metadata": {},
   "outputs": [],
   "source": [
    "# i need a function to generate a graph that only retains the correct edges\n",
    "# this takes original graph G, and yields the subgraph required\n",
    "\n",
    "def graph_collaboration_between(G, rank_1, rank_2):\n",
    "    distinct_edges = set(G.edges())\n",
    "    rank_set = set([rank_1, rank_2])\n",
    "    desired_edges = []\n",
    "    \n",
    "    #for each edge, check that it has rank_1 and rank_2 \n",
    "    for edge in distinct_edges:\n",
    "        rank_list = []\n",
    "        for node_index in edge:\n",
    "            rank_list.append(G.nodes()[node_index][\"Position\"])\n",
    "        r_set = set(rank_list)\n",
    "        if rank_set == r_set:\n",
    "            desired_edges.append(edge)\n",
    "    \n",
    "    #take empty graph\n",
    "    fac_graph = generate_empty_faculty_graph()\n",
    "    fac_graph.add_edges_from(desired_edges)\n",
    "    \n",
    "    return fac_graph\n",
    "    "
   ]
  },
  {
   "cell_type": "code",
   "execution_count": 17,
   "metadata": {
    "scrolled": true
   },
   "outputs": [
    {
     "name": "stdout",
     "output_type": "stream",
     "text": [
      "[(37, 75), (70, 75), (47, 77), (16, 72), (7, 37), (27, 72), (38, 39), (23, 75), (64, 80), (13, 43), (7, 70), (16, 64), (37, 39), (7, 23), (7, 45), (28, 76)]\n"
     ]
    }
   ],
   "source": [
    "avp_graph = graph_collaboration_between(faculty_graph, \"Assistant Professor\", \"Professor\")"
   ]
  },
  {
   "cell_type": "code",
   "execution_count": 18,
   "metadata": {},
   "outputs": [
    {
     "data": {
      "text/plain": [
       "MultiEdgeDataView([(7, 37), (7, 70), (7, 23), (7, 45), (13, 43), (16, 72), (16, 64), (23, 75), (27, 72), (28, 76), (37, 75), (37, 39), (38, 39), (47, 77), (64, 80), (70, 75)])"
      ]
     },
     "execution_count": 18,
     "metadata": {},
     "output_type": "execute_result"
    }
   ],
   "source": [
    "avp_graph.edges()"
   ]
  },
  {
   "cell_type": "code",
   "execution_count": null,
   "metadata": {},
   "outputs": [],
   "source": []
  },
  {
   "cell_type": "code",
   "execution_count": null,
   "metadata": {},
   "outputs": [],
   "source": []
  }
 ],
 "metadata": {
  "kernelspec": {
   "display_name": "Python 3",
   "language": "python",
   "name": "python3"
  },
  "language_info": {
   "codemirror_mode": {
    "name": "ipython",
    "version": 3
   },
   "file_extension": ".py",
   "mimetype": "text/x-python",
   "name": "python",
   "nbconvert_exporter": "python",
   "pygments_lexer": "ipython3",
   "version": "3.9.1"
  }
 },
 "nbformat": 4,
 "nbformat_minor": 2
}
